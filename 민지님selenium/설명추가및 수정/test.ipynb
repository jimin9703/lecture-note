{
 "cells": [
  {
   "cell_type": "code",
   "execution_count": 1,
   "metadata": {},
   "outputs": [],
   "source": [
    "import pandas as pd"
   ]
  },
  {
   "cell_type": "code",
   "execution_count": 2,
   "metadata": {},
   "outputs": [
    {
     "data": {
      "text/html": [
       "<div>\n",
       "<style scoped>\n",
       "    .dataframe tbody tr th:only-of-type {\n",
       "        vertical-align: middle;\n",
       "    }\n",
       "\n",
       "    .dataframe tbody tr th {\n",
       "        vertical-align: top;\n",
       "    }\n",
       "\n",
       "    .dataframe thead th {\n",
       "        text-align: right;\n",
       "    }\n",
       "</style>\n",
       "<table border=\"1\" class=\"dataframe\">\n",
       "  <thead>\n",
       "    <tr style=\"text-align: right;\">\n",
       "      <th></th>\n",
       "      <th>리뷰</th>\n",
       "      <th>별점</th>\n",
       "    </tr>\n",
       "  </thead>\n",
       "  <tbody>\n",
       "    <tr>\n",
       "      <th>0</th>\n",
       "      <td>M2 예약후 고민하다가 맥사용이 처음이라 M1으로 결정 했습니다 할인도 하고 맥사용...</td>\n",
       "      <td>100점</td>\n",
       "    </tr>\n",
       "    <tr>\n",
       "      <th>1</th>\n",
       "      <td>배터리 타임 대박입니다. 충전기 없이 외출이 가능해요.윈도우 노트북과 비교하면 발열...</td>\n",
       "      <td>100점</td>\n",
       "    </tr>\n",
       "    <tr>\n",
       "      <th>2</th>\n",
       "      <td>11절행사로 127만에 저렴하게 구매했네요가볍고 성능 괜찮은 노트북찾고있었는데m2랑...</td>\n",
       "      <td>100점</td>\n",
       "    </tr>\n",
       "    <tr>\n",
       "      <th>3</th>\n",
       "      <td>성능좋고 제품좋고 ~~</td>\n",
       "      <td>100점</td>\n",
       "    </tr>\n",
       "    <tr>\n",
       "      <th>4</th>\n",
       "      <td>쿠폰으로 저렴하게 잘 구매했습니다 배송도 빠르고 발열도 적고 가벼운 작업에는 성능도...</td>\n",
       "      <td>100점</td>\n",
       "    </tr>\n",
       "  </tbody>\n",
       "</table>\n",
       "</div>"
      ],
      "text/plain": [
       "                                                  리뷰    별점\n",
       "0  M2 예약후 고민하다가 맥사용이 처음이라 M1으로 결정 했습니다 할인도 하고 맥사용...  100점\n",
       "1  배터리 타임 대박입니다. 충전기 없이 외출이 가능해요.윈도우 노트북과 비교하면 발열...  100점\n",
       "2  11절행사로 127만에 저렴하게 구매했네요가볍고 성능 괜찮은 노트북찾고있었는데m2랑...  100점\n",
       "3                                       성능좋고 제품좋고 ~~  100점\n",
       "4  쿠폰으로 저렴하게 잘 구매했습니다 배송도 빠르고 발열도 적고 가벼운 작업에는 성능도...  100점"
      ]
     },
     "execution_count": 2,
     "metadata": {},
     "output_type": "execute_result"
    }
   ],
   "source": [
    "df = pd.read_csv('result\\\\review.csv', encoding='utf-8');df.head()"
   ]
  },
  {
   "cell_type": "code",
   "execution_count": 4,
   "metadata": {},
   "outputs": [
    {
     "data": {
      "text/plain": [
       "0"
      ]
     },
     "execution_count": 4,
     "metadata": {},
     "output_type": "execute_result"
    }
   ],
   "source": [
    "# 중복값 개수 확인\n",
    "df.duplicated().sum()"
   ]
  }
 ],
 "metadata": {
  "kernelspec": {
   "display_name": "stream",
   "language": "python",
   "name": "python3"
  },
  "language_info": {
   "codemirror_mode": {
    "name": "ipython",
    "version": 3
   },
   "file_extension": ".py",
   "mimetype": "text/x-python",
   "name": "python",
   "nbconvert_exporter": "python",
   "pygments_lexer": "ipython3",
   "version": "3.12.3"
  }
 },
 "nbformat": 4,
 "nbformat_minor": 2
}
