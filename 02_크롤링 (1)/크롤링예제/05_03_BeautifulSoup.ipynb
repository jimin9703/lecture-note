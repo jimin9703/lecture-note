{
 "cells": [
  {
   "cell_type": "markdown",
   "metadata": {},
   "source": [
    "# 5.3.2 beautifulsoup 설치\n"
   ]
  },
  {
   "cell_type": "markdown",
   "metadata": {},
   "source": [
    "!pip install beautifulsoup4\n"
   ]
  },
  {
   "cell_type": "code",
   "execution_count": 1,
   "metadata": {},
   "outputs": [
    {
     "name": "stdout",
     "output_type": "stream",
     "text": [
      "Requirement already satisfied: beautifulsoup4 in c:\\users\\user\\anaconda3\\lib\\site-packages (4.12.2)\n",
      "Requirement already satisfied: soupsieve>1.2 in c:\\users\\user\\anaconda3\\lib\\site-packages (from beautifulsoup4) (2.5)\n"
     ]
    }
   ],
   "source": [
    "!pip install beautifulsoup4 "
   ]
  },
  {
   "cell_type": "code",
   "execution_count": 2,
   "metadata": {},
   "outputs": [],
   "source": [
    "from bs4 import BeautifulSoup"
   ]
  },
  {
   "cell_type": "markdown",
   "metadata": {},
   "source": [
    "# 5.3.3 기본 실습\n"
   ]
  },
  {
   "cell_type": "code",
   "execution_count": 4,
   "metadata": {},
   "outputs": [
    {
     "data": {
      "text/plain": [
       "'<!DOCTYPE html>\\n<html lang=\"en\">\\n\\n<head>\\n\\n  <meta charset=\"utf-8\">\\n  <meta name=\"viewport\" content=\"width=device-width, initial-scale=1, shrink-to-fit=no\">\\n  <meta name=\"description\" content=\"\">\\n  <meta name=\"author\" content=\"\">\\n\\n  <title>Clean Blog - 곰돌이 Theme</title>\\n\\n  <!-- Bootstrap core CSS -->\\n  <link href=\"vendor/bootstrap/css/bootstrap.min.css\" rel=\"stylesheet\">\\n\\n  <!-- Custom fonts for this template -->\\n  <link href=\"vendor/fontawesome-free/css/all.min.css\" rel=\"stylesheet\" type=\"text/css\">\\n  <link href=\\'https://fonts.googleapis.com/css?family=Lora:400,700,400italic,700italic\\' rel=\\'stylesheet\\' type=\\'text/css\\'>\\n  <link href=\\'https://fonts.googleapis.com/css?family=Open+Sans:300italic,400italic,600italic,700italic,800italic,400,300,600,700,800\\' rel=\\'stylesheet\\' type=\\'text/css\\'>\\n\\n  <!-- Custom styles for this template -->\\n  <link href=\"css/clean-blog.min.css\" rel=\"stylesheet\">\\n\\n</head>\\n\\n<body>\\n\\n  <!-- Navigation -->\\n  <nav class=\"navbar navbar-expand-lg navbar-light fixed-top\" id=\"mainNav\">\\n    <div class=\"container\">\\n      <a class=\"navbar-brand\" href=\"index.html\">Home</a>     \\n    </div>\\n  </nav>\\n\\n  <!-- Page Header -->\\n  <header class=\"masthead\" style=\"background-image: url(\\'img/home-bg.jpg\\')\">\\n    <div class=\"overlay\"></div>\\n    <div class=\"container\">\\n      <div class=\"row\">\\n        <div class=\"col-lg-8 col-md-10 mx-auto\">\\n          <div class=\"site-heading\">\\n            <h1>곰돌이 블로그</h1>\\n            <span class=\"subheading\">곰돌이 블로그에 오신 것을 환영합니다.</span>\\n          </div>\\n        </div>\\n      </div>\\n    </div>\\n  </header>\\n\\n  <!-- Main Content -->\\n  <div class=\"container\">\\n    <div class=\"row\">\\n      <div class=\"col-lg-8 col-md-10 mx-auto\">\\n        <div class=\"post-preview\">\\n          <a href=\"index.html\">\\n            <h2 class=\"post-title\">\\n              단풍구경가자~~\\n            </h2>\\n            <h3 class=\"post-subtitle\">\\n              동키랑 단풍구경 다녀왔어요\\n            </h3>\\n          </a>\\n          <p class=\"post-meta\">September 24, 2021</p>\\n        </div>\\n        <hr>\\n        <div class=\"post-preview\">\\n          <a href=\"index.html\">\\n            <h2 class=\"post-title\">\\n              다이어트 시작!\\n            </h2>\\n            <h3 class=\"post-subtitle\">\\n              꿀은 이제 그만, 날씬한 곰돌이로 다시 태어나기\\n            </h3>          \\n          </a>\\n          <p class=\"post-meta\">June 18, 2021</p>\\n        </div>\\n        <hr>\\n        <div class=\"post-preview\">\\n          <a href=\"index.html\">\\n            <h2 class=\"post-title\">\\n              꽃놀이간다!\\n            </h2>\\n            <h3 class=\"post-subtitle\">\\n              화창한 봄날, 티거랑 함께 산책간 이야기\\n            </h3>\\n          </a>\\n          <p class=\"post-meta\">March 24, 2021</p>\\n        </div>\\n        <hr>\\n        <div class=\"post-preview\">\\n          <a href=\"index.html\">\\n            <h2 class=\"post-title\">\\n              내 꿀은 누가 다 먹었나?\\n            </h2>\\n            <h3 class=\"post-subtitle\">\\n              없어진 꿀의 행방을 찾아라\\n            </h3>\\n          </a>\\n          <p class=\"post-meta\">July 8, 2020</p>\\n        </div>\\n        <hr>\\n        <!-- Pager -->\\n        <div class=\"clearfix\">\\n          <a class=\"btn btn-primary float-right\" href=\"#\">Older Posts &rarr;</a>\\n        </div>\\n      </div>\\n    </div>\\n  </div>\\n\\n  <hr>\\n\\n  <!-- Footer -->\\n  <footer>\\n    <div class=\"container\">\\n      <div class=\"row\">\\n        <div class=\"col-lg-8 col-md-10 mx-auto\">\\n          <p class=\"copyright text-muted\">Copyright &copy; My Website 2021</p>\\n        </div>\\n      </div>\\n    </div>\\n  </footer>\\n</body>\\n\\n</html>\\n'"
      ]
     },
     "execution_count": 4,
     "metadata": {},
     "output_type": "execute_result"
    }
   ],
   "source": [
    "filename = r\"C:\\Users\\USER\\Downloads\\수업공유폴더\\00_자료받아가세요\\02_크롤링\\크롤링예제\\index.html\"\n",
    "\n",
    "html = \"\"\n",
    "\n",
    "\n",
    "with open(filename, \"r\", encoding=\"UTF-8\") as file:\n",
    "    for line in file:\n",
    "\n",
    "        html += line\n",
    "\n",
    "html\n",
    "\n",
    "with open(filename, \"r\", encoding=\"UTF-8\") as file:\n",
    "    html2 = file.read()\n",
    "\n",
    "html2"
   ]
  },
  {
   "cell_type": "code",
   "execution_count": 7,
   "metadata": {},
   "outputs": [
    {
     "name": "stdout",
     "output_type": "stream",
     "text": [
      "['ASCII_SPACES', 'DEFAULT_BUILDER_FEATURES', 'DEFAULT_INTERESTING_STRING_TYPES', 'EMPTY_ELEMENT_EVENT', 'END_ELEMENT_EVENT', 'NO_PARSER_SPECIFIED_WARNING', 'ROOT_TAG_NAME', 'START_ELEMENT_EVENT', 'STRING_ELEMENT_EVENT', '__bool__', '__call__', '__class__', '__contains__', '__copy__', '__deepcopy__', '__delattr__', '__delitem__', '__dict__', '__dir__', '__doc__', '__eq__', '__format__', '__ge__', '__getattr__', '__getattribute__', '__getitem__', '__getstate__', '__gt__', '__hash__', '__init__', '__init_subclass__', '__iter__', '__le__', '__len__', '__lt__', '__module__', '__ne__', '__new__', '__reduce__', '__reduce_ex__', '__repr__', '__setattr__', '__setitem__', '__setstate__', '__sizeof__', '__str__', '__subclasshook__', '__unicode__', '__weakref__', '_all_strings', '_clone', '_decode_markup', '_event_stream', '_feed', '_find_all', '_find_one', '_format_tag', '_indent_string', '_is_xml', '_lastRecursiveChild', '_last_descendant', '_linkage_fixer', '_markup_is_url', '_markup_resembles_filename', '_most_recent_element', '_namespaces', '_popToTag', '_should_pretty_print', 'append', 'attrs', 'builder', 'can_be_empty_element', 'cdata_list_attributes', 'childGenerator', 'children', 'clear', 'contains_replacement_characters', 'contents', 'css', 'currentTag', 'current_data', 'declared_html_encoding', 'decode', 'decode_contents', 'decompose', 'decomposed', 'default', 'descendants', 'element_classes', 'encode', 'encode_contents', 'endData', 'extend', 'extract', 'fetchNextSiblings', 'fetchParents', 'fetchPrevious', 'fetchPreviousSiblings', 'find', 'findAll', 'findAllNext', 'findAllPrevious', 'findChild', 'findChildren', 'findNext', 'findNextSibling', 'findNextSiblings', 'findParent', 'findParents', 'findPrevious', 'findPreviousSibling', 'findPreviousSiblings', 'find_all', 'find_all_next', 'find_all_previous', 'find_next', 'find_next_sibling', 'find_next_siblings', 'find_parent', 'find_parents', 'find_previous', 'find_previous_sibling', 'find_previous_siblings', 'format_string', 'formatter_for_name', 'get', 'getText', 'get_attribute_list', 'get_text', 'handle_data', 'handle_endtag', 'handle_starttag', 'has_attr', 'has_key', 'hidden', 'index', 'insert', 'insert_after', 'insert_before', 'interesting_string_types', 'isSelfClosing', 'is_empty_element', 'is_xml', 'known_xml', 'markup', 'name', 'namespace', 'new_string', 'new_tag', 'next', 'nextGenerator', 'nextSibling', 'nextSiblingGenerator', 'next_element', 'next_elements', 'next_sibling', 'next_siblings', 'object_was_parsed', 'open_tag_counter', 'original_encoding', 'parent', 'parentGenerator', 'parents', 'parse_only', 'parserClass', 'parser_class', 'popTag', 'prefix', 'preserve_whitespace_tag_stack', 'preserve_whitespace_tags', 'prettify', 'previous', 'previousGenerator', 'previousSibling', 'previousSiblingGenerator', 'previous_element', 'previous_elements', 'previous_sibling', 'previous_siblings', 'pushTag', 'recursiveChildGenerator', 'renderContents', 'replaceWith', 'replaceWithChildren', 'replace_with', 'replace_with_children', 'reset', 'select', 'select_one', 'self_and_descendants', 'setup', 'smooth', 'string', 'string_container', 'string_container_stack', 'strings', 'stripped_strings', 'tagStack', 'text', 'unwrap', 'wrap']\n"
     ]
    }
   ],
   "source": [
    "from bs4 import BeautifulSoup\n",
    "\n",
    "soup = BeautifulSoup(html, \"lxml\")\n",
    "\n",
    "print(dir(soup))"
   ]
  },
  {
   "cell_type": "code",
   "execution_count": 8,
   "metadata": {},
   "outputs": [
    {
     "data": {
      "text/plain": [
       "<h2 class=\"post-title\">\n",
       "              단풍구경가자~~\n",
       "            </h2>"
      ]
     },
     "execution_count": 8,
     "metadata": {},
     "output_type": "execute_result"
    }
   ],
   "source": [
    "soup.find(\"h2\")\n",
    "# <h2 class=\"post-title\">\n",
    "#               단풍구경가자~~\n",
    "#             </h2>"
   ]
  },
  {
   "cell_type": "code",
   "execution_count": 9,
   "metadata": {},
   "outputs": [
    {
     "data": {
      "text/plain": [
       "[<h2 class=\"post-title\">\n",
       "               단풍구경가자~~\n",
       "             </h2>,\n",
       " <h2 class=\"post-title\">\n",
       "               다이어트 시작!\n",
       "             </h2>,\n",
       " <h2 class=\"post-title\">\n",
       "               꽃놀이간다!\n",
       "             </h2>,\n",
       " <h2 class=\"post-title\">\n",
       "               내 꿀은 누가 다 먹었나?\n",
       "             </h2>]"
      ]
     },
     "execution_count": 9,
     "metadata": {},
     "output_type": "execute_result"
    }
   ],
   "source": [
    "soup.find_all(\"h2\")"
   ]
  },
  {
   "cell_type": "code",
   "execution_count": 10,
   "metadata": {},
   "outputs": [
    {
     "data": {
      "text/plain": [
       "'\\n              단풍구경가자~~\\n            '"
      ]
     },
     "execution_count": 10,
     "metadata": {},
     "output_type": "execute_result"
    }
   ],
   "source": [
    "soup.find(\"h2\").text"
   ]
  },
  {
   "cell_type": "code",
   "execution_count": 11,
   "metadata": {},
   "outputs": [
    {
     "data": {
      "text/plain": [
       "'단풍구경가자~~'"
      ]
     },
     "execution_count": 11,
     "metadata": {},
     "output_type": "execute_result"
    }
   ],
   "source": [
    "soup.find(\"h2\").text.strip()"
   ]
  },
  {
   "cell_type": "code",
   "execution_count": 12,
   "metadata": {},
   "outputs": [
    {
     "name": "stdout",
     "output_type": "stream",
     "text": [
      "단풍구경가자~~\n",
      "다이어트 시작!\n",
      "꽃놀이간다!\n",
      "내 꿀은 누가 다 먹었나?\n"
     ]
    }
   ],
   "source": [
    "title_list = soup.find_all(\"h2\")\n",
    "\n",
    "정리된title = []\n",
    "for title in title_list:\n",
    "    print(title.text.strip())\n",
    "    정리된title.append(title.text.strip())"
   ]
  },
  {
   "cell_type": "code",
   "execution_count": 17,
   "metadata": {},
   "outputs": [
    {
     "name": "stdout",
     "output_type": "stream",
     "text": [
      "September 24, 2021\n",
      "June 18, 2021\n",
      "March 24, 2021\n",
      "July 8, 2020\n",
      "Copyright © My Website 2021\n"
     ]
    },
    {
     "data": {
      "text/plain": [
       "['September 24, 2021', 'June 18, 2021', 'March 24, 2021', 'July 8, 2020']"
      ]
     },
     "execution_count": 17,
     "metadata": {},
     "output_type": "execute_result"
    }
   ],
   "source": [
    "date_list = soup.find_all(\"p\")\n",
    "\n",
    "정리된date = []\n",
    "for date in date_list:\n",
    "    print(date.text.strip())\n",
    "    정리된date.append(date.text.strip())\n",
    "정리된date.pop()\n",
    "정리된date"
   ]
  },
  {
   "cell_type": "code",
   "execution_count": 18,
   "metadata": {},
   "outputs": [
    {
     "data": {
      "text/plain": [
       "[<p class=\"post-meta\">September 24, 2021</p>,\n",
       " <p class=\"post-meta\">June 18, 2021</p>,\n",
       " <p class=\"post-meta\">March 24, 2021</p>,\n",
       " <p class=\"post-meta\">July 8, 2020</p>]"
      ]
     },
     "execution_count": 18,
     "metadata": {},
     "output_type": "execute_result"
    }
   ],
   "source": [
    "# class = .\n",
    "# id = #\n",
    "\n",
    "date_list = soup.find_all(\"p\", {\"class\": \"post-meta\"})\n",
    "\n",
    "date_list"
   ]
  },
  {
   "cell_type": "code",
   "execution_count": 19,
   "metadata": {},
   "outputs": [
    {
     "name": "stdout",
     "output_type": "stream",
     "text": [
      "September 24, 2021\n",
      "June 18, 2021\n",
      "March 24, 2021\n",
      "July 8, 2020\n"
     ]
    }
   ],
   "source": [
    "for date in date_list:\n",
    "    print(date.text.strip())"
   ]
  },
  {
   "cell_type": "code",
   "execution_count": 24,
   "metadata": {},
   "outputs": [],
   "source": [
    "import pandas as pd\n",
    "\n",
    "title_list = []\n",
    "subtitle_list = []\n",
    "date_list = []\n",
    "\n",
    "# 1. 포스트 리스트\n",
    "post_list = soup.find_all(\"div\", {\"class\": \"post-preview\"})\n",
    "\n",
    "# 2. 제목, 소제목, 날짜 리스트\n",
    "for post in post_list:\n",
    "    title = post.find(\"h2\", {\"class\": \"post-title\"}).text.strip()\n",
    "    subtitle = post.find(\"h3\", {\"class\": \"post-subtitle\"}).text.strip()\n",
    "    date = post.find(\"p\", {\"class\": \"post-meta\"}).text.strip()\n",
    "    title_list.append(title)\n",
    "    subtitle_list.append(subtitle)\n",
    "    date_list.append(date)\n",
    "\n",
    "# title_list = []\n",
    "# subtitle_list = []\n",
    "# date_list = []\n",
    "\n",
    "\n",
    "# 3. 데이터프레임 만들기\n",
    "zip(title_list, subtitle_list, date_list)\n",
    "df = pd.DataFrame(\n",
    "    zip(title_list, subtitle_list, date_list), columns=[\"title\", \"subtitle\", \"date\"]\n",
    ")\n",
    "\n",
    "# df = pd.DataFrame({'title': title_list, 'subtitle': subtitle_list, 'date': date_list})\n",
    "\n",
    "df.to_csv(\n",
    "    r\"C:\\Users\\USER\\Downloads\\수업공유폴더\\00_자료받아가세요\\02_크롤링\\크롤링예제\\결과.csv\",\n",
    "    encoding=\"utf-8\",\n",
    "    header=True,\n",
    "    sep=\",\",\n",
    ")\n",
    "df.to_excel(\n",
    "    r\"C:\\Users\\USER\\Downloads\\수업공유폴더\\00_자료받아가세요\\02_크롤링\\크롤링예제\\결과.xlsx\",\n",
    "    # excel_writer=\"pyopenxl\",\n",
    "    index=False,\n",
    ")\n",
    "\n",
    "# 데이터만들어있는파일\n",
    "# 파일로 저장한다 (csv , excel)\n",
    "\n",
    "# 구축\n",
    "\n",
    "# 절차 스케줄\n",
    "# 디비로저장한다 ()수집될때마다"
   ]
  },
  {
   "cell_type": "code",
   "execution_count": 25,
   "metadata": {},
   "outputs": [
    {
     "name": "stdout",
     "output_type": "stream",
     "text": [
      "Package                           Version\n",
      "--------------------------------- ------------\n",
      "aiobotocore                       2.7.0\n",
      "aiohttp                           3.9.3\n",
      "aioitertools                      0.7.1\n",
      "aiosignal                         1.2.0\n",
      "alabaster                         0.7.12\n",
      "altair                            5.0.1\n",
      "anaconda-anon-usage               0.4.3\n",
      "anaconda-catalogs                 0.2.0\n",
      "anaconda-client                   1.12.3\n",
      "anaconda-cloud-auth               0.1.4\n",
      "anaconda-navigator                2.5.2\n",
      "anaconda-project                  0.11.1\n",
      "anyio                             4.2.0\n",
      "appdirs                           1.4.4\n",
      "archspec                          0.2.1\n",
      "argon2-cffi                       21.3.0\n",
      "argon2-cffi-bindings              21.2.0\n",
      "arrow                             1.2.3\n",
      "astroid                           2.14.2\n",
      "astropy                           5.3.4\n",
      "asttokens                         2.0.5\n",
      "async-lru                         2.0.4\n",
      "atomicwrites                      1.4.0\n",
      "attrs                             23.1.0\n",
      "Automat                           20.2.0\n",
      "autopep8                          1.6.0\n",
      "Babel                             2.11.0\n",
      "backports.functools-lru-cache     1.6.4\n",
      "backports.tempfile                1.0\n",
      "backports.weakref                 1.0.post1\n",
      "bcrypt                            3.2.0\n",
      "beautifulsoup4                    4.12.2\n",
      "binaryornot                       0.4.4\n",
      "black                             23.11.0\n",
      "bleach                            4.1.0\n",
      "blinker                           1.6.2\n",
      "bokeh                             3.3.4\n",
      "boltons                           23.0.0\n",
      "botocore                          1.31.64\n",
      "Bottleneck                        1.3.7\n",
      "Brotli                            1.0.9\n",
      "cachetools                        4.2.2\n",
      "certifi                           2024.2.2\n",
      "cffi                              1.16.0\n",
      "chardet                           4.0.0\n",
      "charset-normalizer                2.0.4\n",
      "click                             8.1.7\n",
      "cloudpickle                       2.2.1\n",
      "clyent                            1.2.2\n",
      "colorama                          0.4.6\n",
      "colorcet                          3.0.1\n",
      "comm                              0.1.2\n",
      "conda                             24.1.2\n",
      "conda-build                       24.1.2\n",
      "conda-content-trust               0.2.0\n",
      "conda_index                       0.4.0\n",
      "conda-libmamba-solver             24.1.0\n",
      "conda-pack                        0.6.0\n",
      "conda-package-handling            2.2.0\n",
      "conda_package_streaming           0.9.0\n",
      "conda-repo-cli                    1.0.75\n",
      "conda-token                       0.4.0\n",
      "conda-verify                      3.4.2\n",
      "constantly                        23.10.4\n",
      "contourpy                         1.2.0\n",
      "cookiecutter                      2.5.0\n",
      "cryptography                      42.0.2\n",
      "cssselect                         1.2.0\n",
      "cycler                            0.11.0\n",
      "cytoolz                           0.12.2\n",
      "dask                              2023.11.0\n",
      "datashader                        0.16.0\n",
      "debugpy                           1.6.7\n",
      "decorator                         5.1.1\n",
      "defusedxml                        0.7.1\n",
      "diff-match-patch                  20200713\n",
      "dill                              0.3.7\n",
      "distributed                       2023.11.0\n",
      "distro                            1.8.0\n",
      "docstring-to-markdown             0.11\n",
      "docutils                          0.18.1\n",
      "entrypoints                       0.4\n",
      "et-xmlfile                        1.1.0\n",
      "executing                         0.8.3\n",
      "fastjsonschema                    2.16.2\n",
      "filelock                          3.13.1\n",
      "flake8                            6.0.0\n",
      "Flask                             2.2.5\n",
      "fonttools                         4.25.0\n",
      "frozenlist                        1.4.0\n",
      "fsspec                            2023.10.0\n",
      "future                            0.18.3\n",
      "gensim                            4.3.0\n",
      "gitdb                             4.0.7\n",
      "GitPython                         3.1.37\n",
      "gmpy2                             2.1.2\n",
      "greenlet                          3.0.1\n",
      "h5py                              3.9.0\n",
      "HeapDict                          1.0.1\n",
      "holoviews                         1.18.3\n",
      "hvplot                            0.9.2\n",
      "hyperlink                         21.0.0\n",
      "idna                              3.4\n",
      "imagecodecs                       2023.1.23\n",
      "imageio                           2.33.1\n",
      "imagesize                         1.4.1\n",
      "imbalanced-learn                  0.11.0\n",
      "importlib-metadata                7.0.1\n",
      "incremental                       22.10.0\n",
      "inflection                        0.5.1\n",
      "iniconfig                         1.1.1\n",
      "intake                            0.6.8\n",
      "intervaltree                      3.1.0\n",
      "ipykernel                         6.28.0\n",
      "ipython                           8.20.0\n",
      "ipython-genutils                  0.2.0\n",
      "ipywidgets                        7.6.5\n",
      "isort                             5.9.3\n",
      "itemadapter                       0.3.0\n",
      "itemloaders                       1.1.0\n",
      "itsdangerous                      2.0.1\n",
      "jaraco.classes                    3.2.1\n",
      "jedi                              0.18.1\n",
      "jellyfish                         1.0.1\n",
      "Jinja2                            3.1.3\n",
      "jmespath                          1.0.1\n",
      "joblib                            1.2.0\n",
      "json5                             0.9.6\n",
      "jsonpatch                         1.32\n",
      "jsonpointer                       2.1\n",
      "jsonschema                        4.19.2\n",
      "jsonschema-specifications         2023.7.1\n",
      "jupyter                           1.0.0\n",
      "jupyter_client                    8.6.0\n",
      "jupyter-console                   6.6.3\n",
      "jupyter_core                      5.5.0\n",
      "jupyter-events                    0.8.0\n",
      "jupyter-lsp                       2.2.0\n",
      "jupyter_server                    2.10.0\n",
      "jupyter_server_terminals          0.4.4\n",
      "jupyterlab                        4.0.11\n",
      "jupyterlab-pygments               0.1.2\n",
      "jupyterlab_server                 2.25.1\n",
      "jupyterlab-widgets                3.0.9\n",
      "keyring                           23.13.1\n",
      "kiwisolver                        1.4.4\n",
      "lazy_loader                       0.3\n",
      "lazy-object-proxy                 1.6.0\n",
      "lckr_jupyterlab_variableinspector 3.1.0\n",
      "libarchive-c                      2.9\n",
      "libmambapy                        1.5.6\n",
      "linkify-it-py                     2.0.0\n",
      "llvmlite                          0.42.0\n",
      "lmdb                              1.4.1\n",
      "locket                            1.0.0\n",
      "lxml                              4.9.3\n",
      "lz4                               4.3.2\n",
      "Markdown                          3.4.1\n",
      "markdown-it-py                    2.2.0\n",
      "MarkupSafe                        2.1.3\n",
      "matplotlib                        3.8.0\n",
      "matplotlib-inline                 0.1.6\n",
      "mccabe                            0.7.0\n",
      "mdit-py-plugins                   0.3.0\n",
      "mdurl                             0.1.0\n",
      "menuinst                          2.0.2\n",
      "mistune                           2.0.4\n",
      "mkl-fft                           1.3.8\n",
      "mkl-random                        1.2.4\n",
      "mkl-service                       2.4.0\n",
      "more-itertools                    10.1.0\n",
      "mpmath                            1.3.0\n",
      "msgpack                           1.0.3\n",
      "multidict                         6.0.4\n",
      "multipledispatch                  0.6.0\n",
      "munkres                           1.1.4\n",
      "mypy                              1.8.0\n",
      "mypy-extensions                   1.0.0\n",
      "navigator-updater                 0.4.0\n",
      "nbclient                          0.8.0\n",
      "nbconvert                         7.10.0\n",
      "nbformat                          5.9.2\n",
      "nest-asyncio                      1.6.0\n",
      "networkx                          3.1\n",
      "nltk                              3.8.1\n",
      "notebook                          7.0.8\n",
      "notebook_shim                     0.2.3\n",
      "numba                             0.59.0\n",
      "numexpr                           2.8.7\n",
      "numpy                             1.26.4\n",
      "numpydoc                          1.5.0\n",
      "openpyxl                          3.0.10\n",
      "overrides                         7.4.0\n",
      "packaging                         23.1\n",
      "pandas                            2.1.4\n",
      "pandocfilters                     1.5.0\n",
      "panel                             1.3.8\n",
      "param                             2.0.2\n",
      "paramiko                          2.8.1\n",
      "parsel                            1.8.1\n",
      "parso                             0.8.3\n",
      "partd                             1.4.1\n",
      "pathlib                           1.0.1\n",
      "pathspec                          0.10.3\n",
      "patsy                             0.5.3\n",
      "pexpect                           4.8.0\n",
      "pickleshare                       0.7.5\n",
      "pillow                            10.2.0\n",
      "pip                               23.3.1\n",
      "pkce                              1.0.3\n",
      "pkginfo                           1.9.6\n",
      "platformdirs                      3.10.0\n",
      "plotly                            5.9.0\n",
      "pluggy                            1.0.0\n",
      "ply                               3.11\n",
      "prometheus-client                 0.14.1\n",
      "prompt-toolkit                    3.0.43\n",
      "Protego                           0.1.16\n",
      "protobuf                          3.20.3\n",
      "psutil                            5.9.0\n",
      "ptyprocess                        0.7.0\n",
      "pure-eval                         0.2.2\n",
      "py-cpuinfo                        9.0.0\n",
      "pyarrow                           14.0.2\n",
      "pyasn1                            0.4.8\n",
      "pyasn1-modules                    0.2.8\n",
      "pycodestyle                       2.10.0\n",
      "pycosat                           0.6.6\n",
      "pycparser                         2.21\n",
      "pyct                              0.5.0\n",
      "pycurl                            7.45.2\n",
      "pydantic                          1.10.12\n",
      "pydeck                            0.8.0\n",
      "PyDispatcher                      2.0.5\n",
      "pydocstyle                        6.3.0\n",
      "pyerfa                            2.0.0\n",
      "pyflakes                          3.0.1\n",
      "Pygments                          2.15.1\n",
      "PyJWT                             2.4.0\n",
      "pylint                            2.16.2\n",
      "pylint-venv                       2.3.0\n",
      "pyls-spyder                       0.4.0\n",
      "PyNaCl                            1.5.0\n",
      "pyodbc                            5.0.1\n",
      "pyOpenSSL                         24.0.0\n",
      "pyparsing                         3.0.9\n",
      "PyQt5                             5.15.10\n",
      "PyQt5-sip                         12.13.0\n",
      "PyQtWebEngine                     5.15.6\n",
      "PySimpleGUI                       4.60.5\n",
      "PySocks                           1.7.1\n",
      "pytest                            7.4.0\n",
      "python-dateutil                   2.8.2\n",
      "python-dotenv                     0.21.0\n",
      "python-json-logger                2.0.7\n",
      "python-lsp-black                  1.2.1\n",
      "python-lsp-jsonrpc                1.0.0\n",
      "python-lsp-server                 1.7.2\n",
      "python-slugify                    5.0.2\n",
      "python-snappy                     0.6.1\n",
      "pytoolconfig                      1.2.6\n",
      "pytz                              2023.3.post1\n",
      "pyviz_comms                       3.0.0\n",
      "pywavelets                        1.5.0\n",
      "pywin32                           305.1\n",
      "pywin32-ctypes                    0.2.0\n",
      "pywinpty                          2.0.10\n",
      "PyYAML                            6.0.1\n",
      "pyzmq                             25.1.2\n",
      "QDarkStyle                        3.0.2\n",
      "qstylizer                         0.2.2\n",
      "QtAwesome                         1.2.2\n",
      "qtconsole                         5.4.2\n",
      "QtPy                              2.4.1\n",
      "queuelib                          1.6.2\n",
      "referencing                       0.30.2\n",
      "regex                             2023.10.3\n",
      "requests                          2.31.0\n",
      "requests-file                     1.5.1\n",
      "requests-toolbelt                 1.0.0\n",
      "rfc3339-validator                 0.1.4\n",
      "rfc3986-validator                 0.1.1\n",
      "rich                              13.3.5\n",
      "rope                              1.7.0\n",
      "rpds-py                           0.10.6\n",
      "Rtree                             1.0.1\n",
      "ruamel.yaml                       0.17.21\n",
      "ruamel-yaml-conda                 0.17.21\n",
      "s3fs                              2023.10.0\n",
      "scikit-image                      0.22.0\n",
      "scikit-learn                      1.2.2\n",
      "scipy                             1.11.4\n",
      "Scrapy                            2.8.0\n",
      "seaborn                           0.12.2\n",
      "semver                            2.13.0\n",
      "Send2Trash                        1.8.2\n",
      "service-identity                  18.1.0\n",
      "setuptools                        68.2.2\n",
      "sip                               6.7.12\n",
      "six                               1.16.0\n",
      "smart-open                        5.2.1\n",
      "smmap                             4.0.0\n",
      "sniffio                           1.3.0\n",
      "snowballstemmer                   2.2.0\n",
      "sortedcontainers                  2.4.0\n",
      "soupsieve                         2.5\n",
      "Sphinx                            5.0.2\n",
      "sphinxcontrib-applehelp           1.0.2\n",
      "sphinxcontrib-devhelp             1.0.2\n",
      "sphinxcontrib-htmlhelp            2.0.0\n",
      "sphinxcontrib-jsmath              1.0.1\n",
      "sphinxcontrib-qthelp              1.0.3\n",
      "sphinxcontrib-serializinghtml     1.1.5\n",
      "spyder                            5.4.3\n",
      "spyder-kernels                    2.4.4\n",
      "SQLAlchemy                        2.0.25\n",
      "stack-data                        0.2.0\n",
      "statsmodels                       0.14.0\n",
      "streamlit                         1.30.0\n",
      "sympy                             1.12\n",
      "tables                            3.9.2\n",
      "tabulate                          0.9.0\n",
      "tblib                             1.7.0\n",
      "tenacity                          8.2.2\n",
      "terminado                         0.17.1\n",
      "text-unidecode                    1.3\n",
      "textdistance                      4.2.1\n",
      "threadpoolctl                     2.2.0\n",
      "three-merge                       0.1.1\n",
      "tifffile                          2023.4.12\n",
      "tinycss2                          1.2.1\n",
      "tldextract                        3.2.0\n",
      "toml                              0.10.2\n",
      "tomlkit                           0.11.1\n",
      "toolz                             0.12.0\n",
      "tornado                           6.3.3\n",
      "tqdm                              4.65.0\n",
      "traitlets                         5.7.1\n",
      "truststore                        0.8.0\n",
      "Twisted                           23.10.0\n",
      "twisted-iocpsupport               1.0.2\n",
      "typing_extensions                 4.9.0\n",
      "tzdata                            2023.3\n",
      "tzlocal                           2.1\n",
      "uc-micro-py                       1.0.1\n",
      "ujson                             5.4.0\n",
      "Unidecode                         1.2.0\n",
      "urllib3                           2.0.7\n",
      "validators                        0.18.2\n",
      "w3lib                             2.1.2\n",
      "watchdog                          2.1.6\n",
      "wcwidth                           0.2.5\n",
      "webencodings                      0.5.1\n",
      "websocket-client                  0.58.0\n",
      "Werkzeug                          2.2.3\n",
      "whatthepatch                      1.0.2\n",
      "wheel                             0.41.2\n",
      "widgetsnbextension                3.5.2\n",
      "win-inet-pton                     1.1.0\n",
      "wrapt                             1.14.1\n",
      "xarray                            2023.6.0\n",
      "xlwings                           0.29.1\n",
      "xyzservices                       2022.9.0\n",
      "yapf                              0.31.0\n",
      "yarl                              1.9.3\n",
      "zict                              3.0.0\n",
      "zipp                              3.17.0\n",
      "zope.interface                    5.4.0\n",
      "zstandard                         0.19.0\n"
     ]
    }
   ],
   "source": [
    "!pip list"
   ]
  },
  {
   "cell_type": "code",
   "execution_count": 28,
   "metadata": {},
   "outputs": [
    {
     "name": "stdout",
     "output_type": "stream",
     "text": [
      "DB부분처리안됨\n",
      "e\n"
     ]
    },
    {
     "name": "stderr",
     "output_type": "stream",
     "text": [
      "C:\\Users\\USER\\AppData\\Local\\Temp\\ipykernel_16556\\636623447.py:6: MovedIn20Warning: The ``declarative_base()`` function is now available as sqlalchemy.orm.declarative_base(). (deprecated since: 2.0) (Background on SQLAlchemy 2.0 at: https://sqlalche.me/e/b8d9)\n",
      "  Base = declarative_base()\n",
      "C:\\Users\\USER\\AppData\\Local\\Temp\\ipykernel_16556\\636623447.py:16: MovedIn20Warning: The ``declarative_base()`` function is now available as sqlalchemy.orm.declarative_base(). (deprecated since: 2.0) (Background on SQLAlchemy 2.0 at: https://sqlalche.me/e/b8d9)\n",
      "  Base = declarative_base()\n"
     ]
    }
   ],
   "source": [
    "from sqlalchemy import engine, create_engine, DateTime, Column, Integer, String, Enum\n",
    "from sqlalchemy.ext.declarative import declarative_base\n",
    "from sqlalchemy.orm import sessionmaker\n",
    "from sqlalchemy.sql import func\n",
    "\n",
    "Base = declarative_base()\n",
    "\n",
    "\n",
    "class Tausers(Base):\n",
    "    __tablename__ = \"tauser\"\n",
    "    id = Column(Integer, primary_key=True)\n",
    "    username = Column(String)\n",
    "    email = Column(String)\n",
    "    created_at = Column(DateTime(timezone=True), server_default=func.now())\n",
    "    updated_at = Column(DateTime(timezone=True), onupdate=func.now())\n",
    "\n",
    "    Base = declarative_base()\n",
    "\n",
    "\n",
    "class MySQLDatabase:\n",
    "    def __init__(self, db_url):\n",
    "        self.engine = create_engine(db_url)\n",
    "        self.Session = sessionmaker(bind=self.engine)\n",
    "        # Base.metadata.create_all(self.engine)\n",
    "\n",
    "    def add_user(self, username, email):\n",
    "        session = self.Session()\n",
    "        user = Tausers(username=username, email=email)\n",
    "        session.add(user)\n",
    "        session.commit()\n",
    "        session.close()\n",
    "\n",
    "    def get_user_by_username(self, username):\n",
    "        session = self.Session()\n",
    "        user = session.query(Tausers).filter_by(username=username).first()\n",
    "        session.close()\n",
    "        return user\n",
    "\n",
    "    def get_user_by_email(self, email):\n",
    "        session = self.Session()\n",
    "        user = session.query(Tausers).filter_by(email=email).first()\n",
    "        session.close()\n",
    "        return user\n",
    "\n",
    "    def update_user_email(self, username, new_email):\n",
    "        session = self.Session()\n",
    "        user = session.query(Tausers).filter_by(username=username).first()\n",
    "        if user:\n",
    "            user.email = new_email\n",
    "            session.commit()\n",
    "        session.close()\n",
    "\n",
    "    def delete_user(self, username):\n",
    "        session = self.Session()\n",
    "        user = session.query(Tausers).filter_by(username=username).first()\n",
    "        if user:\n",
    "            session.delete(user)\n",
    "            session.commit()\n",
    "        session.close()\n",
    "\n",
    "\n",
    "if __name__ == \"__main__\":\n",
    "    try:\n",
    "        user = \"root\"\n",
    "        password = \"\"\n",
    "        host = \"localhost\"\n",
    "        port = 3306\n",
    "        db = \"test\"\n",
    "\n",
    "        db_url = f\"mysql+pymysql://{user}:{password}@{host}:{port}/{db}\"\n",
    "        db = MySQLDatabase(db_url)\n",
    "\n",
    "        print(\n",
    "            db.__repr__\n",
    "        )  # print()    변수  =  eval(\"변수\")   # 보안적으로문제가 사용이 권장되지는 않아\n",
    "        # print(db.__str__)   #print()\n",
    "\n",
    "        db.add_user(\"john_doe\", \"john@example.com\")\n",
    "        user = db.get_user_by_username(\"john_doe\")\n",
    "        print(user.username, user.email)\n",
    "        # db.update_user_email(\"john_doe\", \"new_email@example.com\")\n",
    "        # user =  db.get_user_by_username(\"john_doe\")\n",
    "        # print(user.username, user.email)\n",
    "\n",
    "        # db.delete_user(\"john_doe\")\n",
    "\n",
    "    except Exception as e:\n",
    "        print(\"DB부분처리안됨\")\n",
    "        print(\"e\")\n",
    "\n",
    "\n",
    "# 디비명 test\n",
    "\n",
    "# CREATE TABLE `tauser` (\n",
    "#   `id` INT(10) NOT NULL AUTO_INCREMENT,\n",
    "#   `username` VARCHAR(50) NOT NULL DEFAULT '0' COLLATE 'utf8mb4_general_ci',\n",
    "#   `email` VARCHAR(50) NOT NULL DEFAULT '0' COLLATE 'utf8mb4_general_ci',\n",
    "#   `created_at` TIMESTAMP NULL DEFAULT NULL,\n",
    "#   `updated_at` TIMESTAMP NULL DEFAULT NULL,\n",
    "#   PRIMARY KEY (`id`) USING BTREE\n",
    "# )\n",
    "# COLLATE='utf8mb4_general_ci'\n",
    "# ENGINE=InnoDB\n",
    "# AUTO_INCREMENT=5\n",
    "# ;"
   ]
  },
  {
   "cell_type": "markdown",
   "metadata": {},
   "source": [
    "---\n",
    "\n",
    "<div class=\"alert alert-warning\">\n",
    "[Tip] CSS Selector 를 활용한 태그 선택\n",
    "</div>\n"
   ]
  },
  {
   "cell_type": "code",
   "execution_count": 30,
   "metadata": {},
   "outputs": [
    {
     "data": {
      "text/plain": [
       "[<h2 class=\"post-title\">\n",
       "               단풍구경가자~~\n",
       "             </h2>,\n",
       " <h2 class=\"post-title\">\n",
       "               다이어트 시작!\n",
       "             </h2>,\n",
       " <h2 class=\"post-title\">\n",
       "               꽃놀이간다!\n",
       "             </h2>,\n",
       " <h2 class=\"post-title\">\n",
       "               내 꿀은 누가 다 먹었나?\n",
       "             </h2>]"
      ]
     },
     "execution_count": 30,
     "metadata": {},
     "output_type": "execute_result"
    }
   ],
   "source": [
    "# css 문법\n",
    "# sel all\n",
    "# find()\n",
    "# find_all()\n",
    "\n",
    "# soup.select_one()\n",
    "soup.select(\"a > h2\")  # soup.select('a h2') 로 작성해도 동일하게 동작함"
   ]
  },
  {
   "cell_type": "code",
   "execution_count": 31,
   "metadata": {},
   "outputs": [
    {
     "data": {
      "text/plain": [
       "[<h2 class=\"post-title\">\n",
       "               단풍구경가자~~\n",
       "             </h2>,\n",
       " <h2 class=\"post-title\">\n",
       "               다이어트 시작!\n",
       "             </h2>,\n",
       " <h2 class=\"post-title\">\n",
       "               꽃놀이간다!\n",
       "             </h2>,\n",
       " <h2 class=\"post-title\">\n",
       "               내 꿀은 누가 다 먹었나?\n",
       "             </h2>]"
      ]
     },
     "execution_count": 31,
     "metadata": {},
     "output_type": "execute_result"
    }
   ],
   "source": [
    "soup.select(\"a h2\")"
   ]
  },
  {
   "cell_type": "code",
   "execution_count": 33,
   "metadata": {},
   "outputs": [
    {
     "data": {
      "text/plain": [
       "[<h2 class=\"post-title\">\n",
       "               단풍구경가자~~\n",
       "             </h2>]"
      ]
     },
     "execution_count": 33,
     "metadata": {},
     "output_type": "execute_result"
    }
   ],
   "source": [
    "#                                                 사람읽는 숫자로 시작을 + 1\n",
    "# for\n",
    "# soup.select(f'body > div > div > div > div:nth-child({i+1}) > a > h2')\n",
    "soup.select(\"body > div > div > div > div:nth-child(1) > a > h2\")"
   ]
  },
  {
   "cell_type": "markdown",
   "metadata": {},
   "source": [
    "---\n"
   ]
  },
  {
   "cell_type": "markdown",
   "metadata": {},
   "source": [
    "# 5.3.4 실습-쇼핑몰 가격 데이터\n"
   ]
  },
  {
   "cell_type": "markdown",
   "metadata": {},
   "source": [
    "<div class=\"alert alert-success\">\n",
    "    [문제]  \n",
    "    \n",
    "    \n",
    "상품정보가 포함된 하나의 페이지를 파싱하여 상품정보가 포함된 데이터 프레임을 생성하세요.\n",
    "</div>\n"
   ]
  },
  {
   "cell_type": "code",
   "execution_count": 46,
   "metadata": {},
   "outputs": [
    {
     "data": {
      "text/plain": [
       "'http://www.neweracapkorea.com/shop/shopbrand.html?xcode=031&mcode=002&type=Y&gf_ref=Yz1vU0FlS3M='"
      ]
     },
     "execution_count": 46,
     "metadata": {},
     "output_type": "execute_result"
    }
   ],
   "source": [
    "from bs4 import BeautifulSoup\n",
    "import requests\n",
    "import pandas as pd\n",
    "\n",
    "# http://www.neweracapkorea.com/shop/shopbrand.html?xcode=031&mcode=002&type=Y&gf_ref=Yz1vU0FlS3M=\n",
    "base_url = \"http://www.neweracapkorea.com\"\n",
    "cap_total_url = \"/shop/shopbrand.html?xcode=031&mcode=002&type=Y&gf_ref=Yz1vU0FlS3M=\"\n",
    "base_url + cap_total_url"
   ]
  },
  {
   "cell_type": "code",
   "execution_count": null,
   "metadata": {},
   "outputs": [],
   "source": [
    "headers = {\n",
    "    \"User-Agent\": \"Mozilla/5.0 (Windows NT 10.0; Win64; x64) AppleWebKit/537.36 (KHTML, like Gecko) Chrome/86.0.4240.111 Safari/537.36\"\n",
    "}\n",
    "\n",
    "# get html\n",
    "\n",
    "response = requests.get(base_url + cap_total_url, headers=headers)\n",
    "response.status_code"
   ]
  },
  {
   "cell_type": "code",
   "execution_count": null,
   "metadata": {},
   "outputs": [],
   "source": [
    "# BeautifulSoup을 활용하여 데이터 파싱\n",
    "soup = BeautifulSoup(response.content, \"lxml\")\n",
    "soup"
   ]
  },
  {
   "cell_type": "code",
   "execution_count": 86,
   "metadata": {},
   "outputs": [],
   "source": [
    "from bs4 import BeautifulSoup\n",
    "import requests\n",
    "import pandas as pd\n",
    "\n",
    "# http://www.neweracapkorea.com/shop/shopbrand.html?xcode=031&mcode=002&type=Y&gf_ref=Yz1vU0FlS3M=\n",
    "base_url = \"http://www.neweracapkorea.com\"\n",
    "cap_total_url = \"/shop/shopbrand.html?xcode=031&mcode=002&type=Y&gf_ref=Yz1vU0FlS3M=\"\n",
    "base_url + cap_total_url\n",
    "\n",
    "\n",
    "headers = {\n",
    "    \"User-Agent\": \"Mozilla/5.0 (Windows NT 10.0; Win64; x64) AppleWebKit/537.36 (KHTML, like Gecko) Chrome/86.0.4240.111 Safari/537.36\"\n",
    "}\n",
    "\n",
    "cap_info_list = []\n",
    "price_list = []\n",
    "url_list = []\n",
    "\n",
    "for ii in range(0, 9):\n",
    "    newurl = f\"https://www.neweracapkorea.com/shop/shopbrand.html?type=Y&xcode=031&mcode=002&sort=&page={ii+1}\"\n",
    "    # get html\n",
    "    response = requests.get(newurl, headers=headers)\n",
    "    response.status_code\n",
    "\n",
    "    # BeautifulSoup을 활용하여 데이터 파싱\n",
    "    soup = BeautifulSoup(response.content, \"lxml\")\n",
    "    soup\n",
    "\n",
    "    id = \"productClass\"\n",
    "\n",
    "    for i in range(0, 20):\n",
    "        for j in range(0, 5):\n",
    "            try:\n",
    "                cap_info_list.append(\n",
    "                    soup.select(\n",
    "                        f\"#productClass > div > div.page-body > div.width1200 > div > table > tbody > tr:nth-child({i+2}) > td:nth-child({j+1}) > div > ul > li.dsc\"\n",
    "                    )[0].text\n",
    "                )\n",
    "            except IndexError as e:\n",
    "                pass\n",
    "            try:\n",
    "                price_list.append(\n",
    "                    soup.select(\n",
    "                        f\"#productClass > div > div.page-body > div.width1200 > div > table > tbody > tr:nth-child({i+2}) > td:nth-child({j+1}) > div > ul > li.price\"\n",
    "                    )[0].text\n",
    "                )\n",
    "            except IndexError as e:\n",
    "                pass\n",
    "            try:\n",
    "                url_list.append(\n",
    "                    soup.select(\n",
    "                        f\"#productClass > div > div.page-body > div.width1200 > div > table > tbody > tr:nth-child({i+2}) > td:nth-child({j+1}) > div > div > a\"\n",
    "                    )[0].attrs[\"href\"]\n",
    "                )\n",
    "            except IndexError as e:\n",
    "                pass\n",
    "\n",
    "df = pd.DataFrame(\n",
    "    zip(cap_info_list, price_list, url_list),\n",
    "    columns=[\"상품명\", \"가격\", \"상세페이지주소\"],\n",
    ")\n",
    "# xlsxwriter\n",
    "# openpyxl\n",
    "df.to_excel(\"모자결과물.xlsx\", engine=\"openpyxl\")"
   ]
  },
  {
   "cell_type": "code",
   "execution_count": 67,
   "metadata": {},
   "outputs": [
    {
     "ename": "AttributeError",
     "evalue": "'NoneType' object has no attribute 'get'",
     "output_type": "error",
     "traceback": [
      "\u001b[1;31m---------------------------------------------------------------------------\u001b[0m",
      "\u001b[1;31mAttributeError\u001b[0m                            Traceback (most recent call last)",
      "Cell \u001b[1;32mIn[67], line 2\u001b[0m\n\u001b[0;32m      1\u001b[0m \u001b[38;5;66;03m#url \u001b[39;00m\n\u001b[1;32m----> 2\u001b[0m cap_url \u001b[38;5;241m=\u001b[39m cap_info[\u001b[38;5;241m0\u001b[39m]\u001b[38;5;241m.\u001b[39mfind(\u001b[38;5;124m'\u001b[39m\u001b[38;5;124ma\u001b[39m\u001b[38;5;124m'\u001b[39m)\u001b[38;5;241m.\u001b[39mget(\u001b[38;5;124m'\u001b[39m\u001b[38;5;124mhref\u001b[39m\u001b[38;5;124m'\u001b[39m)\n\u001b[0;32m      3\u001b[0m \u001b[38;5;28mprint\u001b[39m(cap_url)\n\u001b[0;32m      5\u001b[0m \u001b[38;5;66;03m#상품명 \u001b[39;00m\n",
      "\u001b[1;31mAttributeError\u001b[0m: 'NoneType' object has no attribute 'get'"
     ]
    }
   ],
   "source": [
    "# url\n",
    "cap_url = cap_info[0].find(\"a\").get(\"href\")\n",
    "print(cap_url)\n",
    "\n",
    "# 상품명\n",
    "name = cap_info[0].find(\"li\", {\"class\": \"dsc\"}).text.strip()\n",
    "print(name)\n",
    "\n",
    "# 가격\n",
    "price = cap_info[0].find(\"li\", {\"class\": \"price\"}).text.strip()\n",
    "print(price)"
   ]
  },
  {
   "cell_type": "code",
   "execution_count": 21,
   "metadata": {
    "scrolled": true
   },
   "outputs": [
    {
     "name": "stdout",
     "output_type": "stream",
     "text": [
      "이름: MLB 핀치히터 LA다저스 볼캡 로얄 블.., 가격: 33,000원\n",
      "이름: MLB 핀치히터 뉴욕 양키스 볼캡 네이.., 가격: 33,000원\n",
      "이름: MLB 팀 클래식 뉴욕 양키스 게임 볼.., 가격: 36,000원\n",
      "이름: MLB 핀치히터 디트로이트 타이거즈.., 가격: 33,000원\n",
      "이름: MLB 어센틱 뉴욕 양키스 게임(홈/어.., 가격: 49,000원\n",
      "이름: MLB 팀 클래식 LA다저스 게임 볼캡, 가격: 36,000원\n",
      "이름: MLB 핀치히터 시카고 화이트 삭스 볼.., 가격: 33,000원\n",
      "이름: MLB 팀 클래식 보스턴 레드삭스 게임.., 가격: 36,000원\n",
      "이름: MLB 베이직  뉴욕 양키스 볼캡 화이.., 가격: 36,000원\n",
      "이름: MLB 팀 클래식 시카고 화이트 삭스.., 가격: 36,000원\n",
      "이름: MLB 어센틱 시카고 화이트삭스 게임(.., 가격: 49,000원\n",
      "이름: MLB 베이직  LA 다저스 볼캡 화이트.., 가격: 36,000원\n",
      "이름: MLB 어센틱 LA 다저스 게임(홈/어웨.., 가격: 49,000원\n",
      "이름: NYC THIN 언스트럭쳐 볼캡 블랙, 가격: 43,000원\n",
      "이름: MLB 어센틱 보스턴 레드삭스 게임(홈.., 가격: 49,000원\n",
      "이름: MLB 팀 클래식 디트로이트 타이거즈.., 가격: 36,000원\n",
      "이름: 캐주얼 클래식 뉴욕 양키스 볼캡 네.., 가격: 36,000원\n",
      "이름: MLB 어센틱 토론토 블루제이스 게임(.., 가격: 49,000원\n",
      "이름: 에센셜 피어 오브 갓 사이즈캡 블랙, 가격: 79,000원\n",
      "이름: 잉글리쉬 풋볼 리그 토트넘 홋스퍼 F.., 가격: 49,000원\n",
      "이름: MLB 핀치히터 토론토 블루제이스 볼.., 가격: 33,000원\n",
      "이름: MLB 베이직 뉴욕 양키스 볼캡 레드, 가격: 36,000원\n",
      "이름: MLB 핀치히터 보스턴 레드삭스 볼캡.., 가격: 33,000원\n",
      "이름: MLB 어센틱 토론토 블루제이스 얼트4, 가격: 49,000원\n",
      "이름: MLB 핀치히터 세인트루이스 카디널스.., 가격: 33,000원\n",
      "이름: 캐주얼 클래식 LA다저스 볼캡 블루, 가격: 36,000원\n",
      "이름: MLB 어센틱 샌프란시스코 자이언츠.., 가격: 49,000원\n",
      "이름: NYC THIN K프레임 볼캡 블랙, 가격: 43,000원\n",
      "이름: MLB 어센틱 토론토 블루제이스 얼트2, 가격: 49,000원\n",
      "이름: MLB 워시드 미니 로고 뉴욕 양키스.., 가격: 43,000원\n",
      "이름: MLB 마이크로 로고 LA 다저스 언스트.., 가격: 43,000원\n",
      "이름: MLB 어센틱 디트로이트 타이거즈 홈, 가격: 49,000원\n",
      "이름: MLB 어센틱 애틀랜타 브레이브스 홈, 가격: 49,000원\n",
      "이름: 한화 이글스 사이즈캡, 가격: 49,000원\n",
      "이름: 에센셜 피어 오브 갓 사이즈캡 네이.., 가격: 79,000원\n",
      "이름: MLB 코리안 플레이어 토론토 블루제.., 가격: 39,000원\n",
      "이름: 잉글리쉬 풋볼 리그 토트넘 홋스퍼 F.., 가격: 49,000원\n",
      "이름: MLB 워시드 미니 로고 뉴욕 양키스.., 가격: 43,000원\n",
      "이름: MLB 어센틱 피츠버그 파이어리츠 게.., 가격: 49,000원\n",
      "이름: 무하마드 알리 사이즈캡 블랙, 가격: 59,000원\n",
      "이름: MLB 어센틱 뉴욕 양키스 게임 로우.., 가격: 49,000원\n",
      "이름: MLB 워시드 미니 로고 LA 다저스 언.., 가격: 43,000원\n",
      "이름: MLB 팀 클래식 토론토 블루제이스 볼.., 가격: 36,000원\n",
      "이름: 나일론 트랙 제트캡 블랙, 가격: 43,000원\n",
      "이름: MLB 핀치히터 피츠버그 파이어리츠.., 가격: 33,000원\n",
      "이름: MLB 핀치히터 오클랜드 애슬레틱스.., 가격: 33,000원\n",
      "이름: MLB 베이직  뉴욕 양키스 볼캡 블랙.., 가격: 36,000원\n",
      "이름: MLB 어센틱 세인트루이스 카디널스.., 가격: 49,000원\n",
      "이름: 잉글리쉬 풋볼 리그 토트넘 홋스퍼 F.., 가격: 43,000원\n",
      "이름: NFL 피츠버그 스틸러스 사이즈캡 블.., 가격: 49,000원\n",
      "이름: 에센셜 무지 레트로 크라운 사이즈캡.., 가격: 49,000원\n",
      "이름: NYC THIN K프레임 볼캡 레드, 가격: 43,000원\n",
      "이름: MLB 베이직 뉴욕 양키스 K프레임 볼.., 가격: 43,000원\n",
      "이름: MLB 어센틱 클리블랜드 인디언스 RD(.., 가격: 49,000원\n",
      "이름: MLB 어센틱 애틀랜타 브레이브스 RD(.., 가격: 49,000원\n",
      "이름: MLB 어센틱 보스턴 레드삭스 얼트, 가격: 49,000원\n",
      "이름: MLB 어센틱 LA 에인절스 게임(홈/어.., 가격: 49,000원\n",
      "이름: NBA 베이직 시카고 불스 스냅백 블랙, 가격: 49,000원\n",
      "이름: MLB 마이크로 로고 LA 다저스 언스트.., 가격: 43,000원\n",
      "이름: MLB 스페이서 메시 뉴욕 양키스 볼캡.., 가격: 39,000원\n",
      "이름: MLB 어센틱 밀워키 브루어스 얼트, 가격: 49,000원\n",
      "이름: MLB 핀치히터 샌프란시스코 자이언츠.., 가격: 33,000원\n",
      "이름: 버킷 햇 블랙, 가격: 54,000원\n",
      "이름: MLB 어센틱 오클랜드 애슬레틱스 얼.., 가격: 49,000원\n",
      "이름: MLB 어센틱 텍사스 레인저스 게임(홈.., 가격: 49,000원\n",
      "이름: MLB 어센틱 피츠버그 파이어리츠 얼.., 가격: 49,000원\n",
      "이름: MLB 어센틱 세인트루이스 카디널스.., 가격: 49,000원\n",
      "이름: MLB 핀치히터 휴스턴 애스트로스 볼.., 가격: 33,000원\n",
      "이름: MLB 어센틱 필라델피아 필리스 게임(.., 가격: 49,000원\n",
      "이름: MLB 어센틱 마이애미 말린스 게임(홈.., 가격: 49,000원\n",
      "이름: 나일론 트랙 제트캡 네이비, 가격: 43,000원\n",
      "이름: 캠프 심볼 레트로 크라운 스냅백 스.., 가격: 49,000원\n",
      "이름: MLB 코리안 플레이어 세인트루이스.., 가격: 39,000원\n",
      "이름: MLB 어센틱 필라델피아 필리스 얼트2, 가격: 49,000원\n",
      "이름: MLB 베이직 뉴욕 양키스 볼캡 카모, 가격: 36,000원\n",
      "이름: MLB 베이직 LA 다저스 K프레임 볼캡.., 가격: 43,000원\n",
      "이름: MLB 베이직 뉴욕 양키스 언스트럭쳐.., 가격: 43,000원\n",
      "이름: MLB 워시드 미니 로고 뉴욕 양키스.., 가격: 43,000원\n",
      "이름: MLB 어센틱 토론토 블루제이스 얼트3, 가격: 49,000원\n",
      "이름: MLB 어센틱 탬파베이 레이스 얼트, 가격: 49,000원\n",
      "이름: MLB 어센틱 세인트루이스 카디널스.., 가격: 49,000원\n",
      "이름: MLB 어센틱 뉴욕 메츠 게임(홈/어웨.., 가격: 49,000원\n",
      "이름: 덕 캔버스 버킷 블랙, 가격: 54,000원\n",
      "이름: MLB 베이직 워시드 LA 다저스 언스트.., 가격: 43,000원\n",
      "이름: MLB 핀치히터 필라델피아 필리스 볼.., 가격: 33,000원\n",
      "이름: MLB 어센틱 시카고 컵스 게임(홈/어.., 가격: 49,000원\n",
      "이름: 이탈리안 워시드 언스트럭쳐 볼캡 블.., 가격: 43,000원\n",
      "이름: MLB 어센틱 밀워키 브루어스 홈, 가격: 49,000원\n",
      "이름: MLB 어센틱 오클랜드 애슬레틱스 RD(.., 가격: 49,000원\n",
      "이름: 캠프 심볼 레트로 크라운 스냅백 오.., 가격: 49,000원\n",
      "이름: MLB 워시드 미니 로고 뉴욕 양키스.., 가격: 43,000원\n",
      "이름: MLB 어센틱 탬파베이 레이스 게임(홈.., 가격: 49,000원\n",
      "이름: MLB 어센틱 디트로이트 타이거즈 RD(.., 가격: 49,000원\n",
      "이름: MLB 핀치히터 애리조나 다이아몬드백.., 가격: 33,000원\n",
      "이름: MLB 어센틱 피츠버그 파이어리츠 얼.., 가격: 49,000원\n",
      "이름: NFL 뉴잉글랜드 패트리어츠 사이즈캡.., 가격: 49,000원\n",
      "이름: MLB 어센틱 샌디에이고 파드리스 얼.., 가격: 49,000원\n",
      "이름: MLB 워시드 미니 로고 뉴욕 양키스.., 가격: 43,000원\n",
      "이름: 피싱 루어 제트캡 베이지, 가격: 43,000원\n",
      "이름: MLB 어센틱 신시내티 레즈 얼트2, 가격: 49,000원\n"
     ]
    }
   ],
   "source": [
    "name_list = []\n",
    "price_list = []\n",
    "url_list = []\n",
    "\n",
    "for cap in cap_info:\n",
    "    name = cap.find(\"li\", {\"class\": \"dsc\"}).text\n",
    "    price = cap.find(\"li\", {\"class\": \"price\"}).text\n",
    "    url = cap.find(\"a\").get(\"href\")\n",
    "    print(\"이름: {}, 가격: {}\".format(name, price))\n",
    "    name_list.append(name)\n",
    "    price_list.append(price)\n",
    "    url_list.append(url)"
   ]
  },
  {
   "cell_type": "code",
   "execution_count": 22,
   "metadata": {},
   "outputs": [
    {
     "data": {
      "text/html": [
       "<div>\n",
       "<style scoped>\n",
       "    .dataframe tbody tr th:only-of-type {\n",
       "        vertical-align: middle;\n",
       "    }\n",
       "\n",
       "    .dataframe tbody tr th {\n",
       "        vertical-align: top;\n",
       "    }\n",
       "\n",
       "    .dataframe thead th {\n",
       "        text-align: right;\n",
       "    }\n",
       "</style>\n",
       "<table border=\"1\" class=\"dataframe\">\n",
       "  <thead>\n",
       "    <tr style=\"text-align: right;\">\n",
       "      <th></th>\n",
       "      <th>이름</th>\n",
       "      <th>가격</th>\n",
       "      <th>url</th>\n",
       "    </tr>\n",
       "  </thead>\n",
       "  <tbody>\n",
       "    <tr>\n",
       "      <th>0</th>\n",
       "      <td>MLB 핀치히터 LA다저스 볼캡 로얄 블..</td>\n",
       "      <td>33,000원</td>\n",
       "      <td>/shop/shopdetail.html?branduid=3353566&amp;xcode=0...</td>\n",
       "    </tr>\n",
       "    <tr>\n",
       "      <th>1</th>\n",
       "      <td>MLB 핀치히터 뉴욕 양키스 볼캡 네이..</td>\n",
       "      <td>33,000원</td>\n",
       "      <td>/shop/shopdetail.html?branduid=3353567&amp;xcode=0...</td>\n",
       "    </tr>\n",
       "    <tr>\n",
       "      <th>2</th>\n",
       "      <td>MLB 팀 클래식 뉴욕 양키스 게임 볼..</td>\n",
       "      <td>36,000원</td>\n",
       "      <td>/shop/shopdetail.html?branduid=4633&amp;xcode=031&amp;...</td>\n",
       "    </tr>\n",
       "    <tr>\n",
       "      <th>3</th>\n",
       "      <td>MLB 핀치히터 디트로이트 타이거즈..</td>\n",
       "      <td>33,000원</td>\n",
       "      <td>/shop/shopdetail.html?branduid=3353722&amp;xcode=0...</td>\n",
       "    </tr>\n",
       "    <tr>\n",
       "      <th>4</th>\n",
       "      <td>MLB 어센틱 뉴욕 양키스 게임(홈/어..</td>\n",
       "      <td>49,000원</td>\n",
       "      <td>/shop/shopdetail.html?branduid=4996&amp;xcode=031&amp;...</td>\n",
       "    </tr>\n",
       "  </tbody>\n",
       "</table>\n",
       "</div>"
      ],
      "text/plain": [
       "                         이름       가격  \\\n",
       "0  MLB 핀치히터 LA다저스 볼캡 로얄 블..  33,000원   \n",
       "1   MLB 핀치히터 뉴욕 양키스 볼캡 네이..  33,000원   \n",
       "2   MLB 팀 클래식 뉴욕 양키스 게임 볼..  36,000원   \n",
       "3     MLB 핀치히터 디트로이트 타이거즈..  33,000원   \n",
       "4   MLB 어센틱 뉴욕 양키스 게임(홈/어..  49,000원   \n",
       "\n",
       "                                                 url  \n",
       "0  /shop/shopdetail.html?branduid=3353566&xcode=0...  \n",
       "1  /shop/shopdetail.html?branduid=3353567&xcode=0...  \n",
       "2  /shop/shopdetail.html?branduid=4633&xcode=031&...  \n",
       "3  /shop/shopdetail.html?branduid=3353722&xcode=0...  \n",
       "4  /shop/shopdetail.html?branduid=4996&xcode=031&...  "
      ]
     },
     "execution_count": 22,
     "metadata": {},
     "output_type": "execute_result"
    }
   ],
   "source": [
    "df = pd.DataFrame({\"이름\": name_list, \"가격\": price_list, \"url\": url_list})\n",
    "df.head()"
   ]
  },
  {
   "cell_type": "code",
   "execution_count": null,
   "metadata": {},
   "outputs": [],
   "source": [
    "con =\n",
    "df.to_sql(name=\"test2\", con = con)"
   ]
  },
  {
   "cell_type": "markdown",
   "metadata": {},
   "source": [
    "<div class=\"alert alert-success\">\n",
    "    [문제]  \n",
    "    \n",
    "    \n",
    "앞의 데이터프레임에 저장한 상품 상세페이지의 URL을 참조하여, 각각의 상품정보의 상세정보를 \n",
    "포함하는 데이터 프레임을 생성하세요.\n",
    "</div>\n"
   ]
  },
  {
   "cell_type": "code",
   "execution_count": 23,
   "metadata": {},
   "outputs": [],
   "source": [
    "# get html\n",
    "response = requests.get(base_url + df[\"url\"][0])\n",
    "\n",
    "\n",
    "# BeautifulSoup을 활용하여 데이터 파싱\n",
    "soup = BeautifulSoup(response.content, \"lxml\")"
   ]
  },
  {
   "cell_type": "code",
   "execution_count": 24,
   "metadata": {},
   "outputs": [
    {
     "data": {
      "text/plain": [
       "'MLB 핀치히터 LA다저스 볼캡 로얄 블루'"
      ]
     },
     "execution_count": 24,
     "metadata": {},
     "output_type": "execute_result"
    }
   ],
   "source": [
    "cap_name = soup.find(\"h3\", {\"class\": \"tit-prd\"}).text.strip()\n",
    "cap_name"
   ]
  },
  {
   "cell_type": "code",
   "execution_count": 25,
   "metadata": {},
   "outputs": [
    {
     "name": "stdout",
     "output_type": "stream",
     "text": [
      "멤버십혜택\n",
      "제품코드\n",
      "12024815\n",
      "수입원\n",
      "뉴에라 캡 코리아\n",
      "출시일\n",
      "2018/12/18\n",
      "소재\n",
      "100%폴리에스터\n",
      "챙 길이\n",
      "약 7cm\n",
      "높이\n",
      "약 11cm\n",
      "특징\n",
      "후면 사이즈 조절 가능\n",
      "특이사항\n",
      "NONESEASON\n"
     ]
    }
   ],
   "source": [
    "cap_info = soup.find(\"tbody\")\n",
    "features = cap_info.findAll(\"div\", {\"class\": \"tb-left\"})\n",
    "\n",
    "for f in features:\n",
    "    print(f.text.strip())"
   ]
  },
  {
   "cell_type": "code",
   "execution_count": 26,
   "metadata": {},
   "outputs": [
    {
     "data": {
      "text/plain": [
       "{'이름': 'MLB 핀치히터 LA다저스 볼캡 로얄 블루',\n",
       " '제품코드': '12024815',\n",
       " '수입원': '뉴에라 캡 코리아',\n",
       " '출시일': '2018/12/18',\n",
       " '소재': '100%폴리에스터',\n",
       " '챙 길이': '약 7cm',\n",
       " '높이': '약 11cm',\n",
       " '특징': '후면 사이즈 조절 가능',\n",
       " '특이사항': 'NONESEASON'}"
      ]
     },
     "execution_count": 26,
     "metadata": {},
     "output_type": "execute_result"
    }
   ],
   "source": [
    "fic_list = []\n",
    "for f in features:\n",
    "    fic_list.append(f.text.strip())\n",
    "fic_list\n",
    "\n",
    "cap_dict = {\"이름\": cap_name}\n",
    "\n",
    "########## 추가부분 시작 ##################\n",
    "if len(fic_list) % 2 != 0:\n",
    "    fic_list = fic_list[1:]\n",
    "########## 추가부분 끝  ##################\n",
    "\n",
    "for i in range(len(fic_list)):\n",
    "    if i % 2 == 0:\n",
    "        cap_dict.update({fic_list[i]: fic_list[i + 1]})\n",
    "\n",
    "cap_dict"
   ]
  },
  {
   "cell_type": "code",
   "execution_count": 27,
   "metadata": {},
   "outputs": [
    {
     "data": {
      "text/html": [
       "<div>\n",
       "<style scoped>\n",
       "    .dataframe tbody tr th:only-of-type {\n",
       "        vertical-align: middle;\n",
       "    }\n",
       "\n",
       "    .dataframe tbody tr th {\n",
       "        vertical-align: top;\n",
       "    }\n",
       "\n",
       "    .dataframe thead th {\n",
       "        text-align: right;\n",
       "    }\n",
       "</style>\n",
       "<table border=\"1\" class=\"dataframe\">\n",
       "  <thead>\n",
       "    <tr style=\"text-align: right;\">\n",
       "      <th></th>\n",
       "      <th>이름</th>\n",
       "      <th>제품코드</th>\n",
       "      <th>수입원</th>\n",
       "      <th>출시일</th>\n",
       "      <th>소재</th>\n",
       "      <th>챙 길이</th>\n",
       "      <th>높이</th>\n",
       "      <th>특징</th>\n",
       "      <th>특이사항</th>\n",
       "    </tr>\n",
       "  </thead>\n",
       "  <tbody>\n",
       "    <tr>\n",
       "      <th>0</th>\n",
       "      <td>MLB 핀치히터 LA다저스 볼캡 로얄 블루</td>\n",
       "      <td>12024815</td>\n",
       "      <td>뉴에라 캡 코리아</td>\n",
       "      <td>2018/12/18</td>\n",
       "      <td>100%폴리에스터</td>\n",
       "      <td>약 7cm</td>\n",
       "      <td>약 11cm</td>\n",
       "      <td>후면 사이즈 조절 가능</td>\n",
       "      <td>NONESEASON</td>\n",
       "    </tr>\n",
       "  </tbody>\n",
       "</table>\n",
       "</div>"
      ],
      "text/plain": [
       "                        이름      제품코드        수입원         출시일         소재   챙 길이  \\\n",
       "0  MLB 핀치히터 LA다저스 볼캡 로얄 블루  12024815  뉴에라 캡 코리아  2018/12/18  100%폴리에스터  약 7cm   \n",
       "\n",
       "       높이            특징        특이사항  \n",
       "0  약 11cm  후면 사이즈 조절 가능  NONESEASON  "
      ]
     },
     "execution_count": 27,
     "metadata": {},
     "output_type": "execute_result"
    }
   ],
   "source": [
    "cap_df = pd.DataFrame(data=cap_dict, index=[0])\n",
    "cap_df"
   ]
  },
  {
   "cell_type": "code",
   "execution_count": 28,
   "metadata": {},
   "outputs": [
    {
     "name": "stdout",
     "output_type": "stream",
     "text": [
      "0... 1... 2... 3... 4... 5... 6... 7... 8... 9... 10... 11... 12... 13... 14... 15... 16... 17... 18... 19... 20... 21... 22... 23... 24... 25... 26... 27... 28... 29... 30... 31... 32... 33... 34... 35... 36... 37... 38... 39... 40... 41... 42... 43... 44... 45... 46... 47... 48... 49... 50... 51... 52... 53... 54... 55... 56... 57... 58... 59... 60... 61... 62... 63... 64... 65... 66... 67... 68... 69... 70... 71... 72... 73... 74... 75... 76... 77... 78... 79... 80... 81... 82... 83... 84... 85... 86... 87... 88... 89... 90... 91... 92... 93... 94... 95... 96... 97... 98... 99... "
     ]
    }
   ],
   "source": [
    "cap_detail_df = pd.DataFrame()\n",
    "\n",
    "for i in range(len(df)):\n",
    "    print(i, end=\"... \")\n",
    "    # (1)df에 저장된 url 읽어오기\n",
    "    url = df[\"url\"][i]\n",
    "    response = requests.get(base_url + url)\n",
    "    soup = BeautifulSoup(response.content, \"lxml\")\n",
    "\n",
    "    # (2)상세페이지의 정보 파싱\n",
    "    cap_name = soup.find(\"h3\", {\"class\": \"tit-prd\"}).text.strip()\n",
    "    cap_info = soup.find(\"tbody\")\n",
    "    features = cap_info.findAll(\"div\", {\"class\": \"tb-left\"})\n",
    "\n",
    "    fic_list = []\n",
    "    for f in features:\n",
    "        fic_list.append(f.text.strip())\n",
    "\n",
    "    # (3)파싱한 정보를 사용하여 딕셔너리 생성\n",
    "    cap_dict = {\"제품명\": cap_name}\n",
    "\n",
    "    ########## 추가부분 시작 ##################\n",
    "    if len(fic_list) % 2 != 0:\n",
    "        fic_list = fic_list[1:]\n",
    "    ########## 추가부분 끝  ##################\n",
    "\n",
    "    for i in range(len(fic_list)):\n",
    "        if i % 2 == 0:\n",
    "            if fic_list[i] != \"\":\n",
    "                cap_dict.update({fic_list[i]: fic_list[i + 1]})\n",
    "\n",
    "    # (4)생성한 딕셔너리로 데이터프레임 생성\n",
    "    temp_df = pd.DataFrame(data=cap_dict, index=[0])\n",
    "\n",
    "    # (5) 데이터프레임 추가\n",
    "    if len(cap_detail_df) == 0:\n",
    "        cap_detail_df = temp_df\n",
    "    else:\n",
    "        cap_detail_df = cap_detail_df.append(temp_df, ignore_index=True)"
   ]
  },
  {
   "cell_type": "code",
   "execution_count": 29,
   "metadata": {},
   "outputs": [
    {
     "data": {
      "text/html": [
       "<div>\n",
       "<style scoped>\n",
       "    .dataframe tbody tr th:only-of-type {\n",
       "        vertical-align: middle;\n",
       "    }\n",
       "\n",
       "    .dataframe tbody tr th {\n",
       "        vertical-align: top;\n",
       "    }\n",
       "\n",
       "    .dataframe thead th {\n",
       "        text-align: right;\n",
       "    }\n",
       "</style>\n",
       "<table border=\"1\" class=\"dataframe\">\n",
       "  <thead>\n",
       "    <tr style=\"text-align: right;\">\n",
       "      <th></th>\n",
       "      <th>제품명</th>\n",
       "      <th>제품코드</th>\n",
       "      <th>수입원</th>\n",
       "      <th>출시일</th>\n",
       "      <th>소재</th>\n",
       "      <th>챙 길이</th>\n",
       "      <th>높이</th>\n",
       "      <th>특징</th>\n",
       "      <th>특이사항</th>\n",
       "      <th>깊이</th>\n",
       "      <th>주의사항</th>\n",
       "    </tr>\n",
       "  </thead>\n",
       "  <tbody>\n",
       "    <tr>\n",
       "      <th>0</th>\n",
       "      <td>MLB 핀치히터 LA다저스 볼캡 로얄 블루</td>\n",
       "      <td>12024815</td>\n",
       "      <td>뉴에라 캡 코리아</td>\n",
       "      <td>2018/12/18</td>\n",
       "      <td>100%폴리에스터</td>\n",
       "      <td>약 7cm</td>\n",
       "      <td>약 11cm</td>\n",
       "      <td>후면 사이즈 조절 가능</td>\n",
       "      <td>NONESEASON</td>\n",
       "      <td>NaN</td>\n",
       "      <td>NaN</td>\n",
       "    </tr>\n",
       "    <tr>\n",
       "      <th>1</th>\n",
       "      <td>MLB 핀치히터 뉴욕 양키스 볼캡 네이비</td>\n",
       "      <td>12024814</td>\n",
       "      <td>뉴에라 캡 코리아</td>\n",
       "      <td>2018/12/18</td>\n",
       "      <td>100%폴리에스터</td>\n",
       "      <td>약 7cm</td>\n",
       "      <td>약 11cm</td>\n",
       "      <td>NaN</td>\n",
       "      <td>NONESEASON</td>\n",
       "      <td>NaN</td>\n",
       "      <td>NaN</td>\n",
       "    </tr>\n",
       "    <tr>\n",
       "      <th>2</th>\n",
       "      <td>MLB 팀 클래식 뉴욕 양키스 게임 볼캡 네이비</td>\n",
       "      <td>10975804</td>\n",
       "      <td>뉴에라 캡 코리아</td>\n",
       "      <td>2016/06/14</td>\n",
       "      <td>95%폴리에스터, 5%스판덱스</td>\n",
       "      <td>약 7cm</td>\n",
       "      <td>NaN</td>\n",
       "      <td>NaN</td>\n",
       "      <td>NaN</td>\n",
       "      <td>약 12cm</td>\n",
       "      <td>NaN</td>\n",
       "    </tr>\n",
       "    <tr>\n",
       "      <th>3</th>\n",
       "      <td>MLB 핀치히터 디트로이트 타이거즈 볼캡 네이비</td>\n",
       "      <td>12033046</td>\n",
       "      <td>뉴에라 캡 코리아</td>\n",
       "      <td>2019/01/17</td>\n",
       "      <td>100%폴리에스터</td>\n",
       "      <td>약 7cm</td>\n",
       "      <td>약 11cm</td>\n",
       "      <td>NaN</td>\n",
       "      <td>NONESEASON</td>\n",
       "      <td>NaN</td>\n",
       "      <td>NaN</td>\n",
       "    </tr>\n",
       "    <tr>\n",
       "      <th>4</th>\n",
       "      <td>MLB 어센틱 뉴욕 양키스 게임(홈/어웨이공통)</td>\n",
       "      <td>70331909</td>\n",
       "      <td>뉴에라 캡 코리아</td>\n",
       "      <td>2019/03/28</td>\n",
       "      <td>100%폴리에스터</td>\n",
       "      <td>약 7cm</td>\n",
       "      <td>약 12cm</td>\n",
       "      <td>NaN</td>\n",
       "      <td>2019 S/S</td>\n",
       "      <td>NaN</td>\n",
       "      <td>NaN</td>\n",
       "    </tr>\n",
       "  </tbody>\n",
       "</table>\n",
       "</div>"
      ],
      "text/plain": [
       "                          제품명      제품코드        수입원         출시일  \\\n",
       "0     MLB 핀치히터 LA다저스 볼캡 로얄 블루  12024815  뉴에라 캡 코리아  2018/12/18   \n",
       "1      MLB 핀치히터 뉴욕 양키스 볼캡 네이비  12024814  뉴에라 캡 코리아  2018/12/18   \n",
       "2  MLB 팀 클래식 뉴욕 양키스 게임 볼캡 네이비  10975804  뉴에라 캡 코리아  2016/06/14   \n",
       "3  MLB 핀치히터 디트로이트 타이거즈 볼캡 네이비  12033046  뉴에라 캡 코리아  2019/01/17   \n",
       "4  MLB 어센틱 뉴욕 양키스 게임(홈/어웨이공통)  70331909  뉴에라 캡 코리아  2019/03/28   \n",
       "\n",
       "                 소재   챙 길이      높이            특징        특이사항      깊이 주의사항  \n",
       "0         100%폴리에스터  약 7cm  약 11cm  후면 사이즈 조절 가능  NONESEASON     NaN  NaN  \n",
       "1         100%폴리에스터  약 7cm  약 11cm           NaN  NONESEASON     NaN  NaN  \n",
       "2  95%폴리에스터, 5%스판덱스  약 7cm     NaN           NaN         NaN  약 12cm  NaN  \n",
       "3         100%폴리에스터  약 7cm  약 11cm           NaN  NONESEASON     NaN  NaN  \n",
       "4         100%폴리에스터  약 7cm  약 12cm           NaN    2019 S/S     NaN  NaN  "
      ]
     },
     "execution_count": 29,
     "metadata": {},
     "output_type": "execute_result"
    }
   ],
   "source": [
    "cap_detail_df.head()"
   ]
  },
  {
   "cell_type": "code",
   "execution_count": 30,
   "metadata": {},
   "outputs": [
    {
     "data": {
      "text/plain": [
       "array(['NONESEASON', nan, '2019 S/S', '21SS', '21S/S', '20S/S', '21F/W',\n",
       "       '19SS', '20F/W', '21FW', '2020 S/S', '19SS NONE SEASON'],\n",
       "      dtype=object)"
      ]
     },
     "execution_count": 30,
     "metadata": {},
     "output_type": "execute_result"
    }
   ],
   "source": [
    "cap_detail_df[\"특이사항\"].unique()"
   ]
  },
  {
   "cell_type": "markdown",
   "metadata": {},
   "source": [
    "<div class=\"alert alert-success\">\n",
    "    [문제]  \n",
    "    \n",
    "    \n",
    "여러 페이지의 정보를 앞의 데이터프레임에 저장한 상품 상세페이지의 URL을 참조하여, 각각의 \n",
    "상품정보의 상세정보를 포함하는 데이터 프레임을 생성하세요.\n",
    "</div>\n"
   ]
  },
  {
   "cell_type": "code",
   "execution_count": 31,
   "metadata": {},
   "outputs": [
    {
     "name": "stdout",
     "output_type": "stream",
     "text": [
      "1 페이지 파싱.....\n",
      "2 페이지 파싱.....\n",
      "3 페이지 파싱.....\n",
      "4 페이지 파싱.....\n",
      "5 페이지 파싱.....\n",
      "6 페이지 파싱.....\n",
      "7 페이지 파싱.....\n",
      "8 페이지 파싱.....\n",
      "9 페이지 파싱.....\n",
      "끝\n"
     ]
    }
   ],
   "source": [
    "base_url = \"http://www.neweracapkorea.com\"\n",
    "\n",
    "name_list = []\n",
    "price_list = []\n",
    "url_list = []\n",
    "index = 1\n",
    "\n",
    "while True:\n",
    "    try:\n",
    "        print(\"{} 페이지 파싱.....\".format(index))\n",
    "        page_url = f\"/shop/shopbrand.html?type=Y&xcode=031&mcode=002&sort=&page={index}\"\n",
    "        response = requests.get(base_url + page_url)\n",
    "\n",
    "        # BeautifulSoup을 활용하여 데이터 파싱\n",
    "        soup = BeautifulSoup(response.content, \"lxml\")\n",
    "        cap_info = soup.findAll(\"div\", {\"class\": \"tb-center\"})\n",
    "\n",
    "        if len(cap_info) == 0:\n",
    "            print(\"끝\")\n",
    "            break\n",
    "        for cap in cap_info:\n",
    "            name = cap.find(\"li\", {\"class\": \"dsc\"}).text\n",
    "            price = cap.find(\"li\", {\"class\": \"price\"})\n",
    "            url = cap.find(\"a\").get(\"href\")\n",
    "            # print(\"이름: {}, 가격: {}\".format(name, price))\n",
    "            name_list.append(name)\n",
    "\n",
    "            if price != None:\n",
    "                price_list.append(price.text)\n",
    "            else:\n",
    "                price_list.append(\"SOLD OUT\")\n",
    "            url_list.append(url)\n",
    "        index = index + 1\n",
    "    except:\n",
    "        print(\"Unexpected error:\", sys.exc_info()[0])\n",
    "        break"
   ]
  },
  {
   "cell_type": "code",
   "execution_count": 32,
   "metadata": {},
   "outputs": [
    {
     "data": {
      "text/html": [
       "<div>\n",
       "<style scoped>\n",
       "    .dataframe tbody tr th:only-of-type {\n",
       "        vertical-align: middle;\n",
       "    }\n",
       "\n",
       "    .dataframe tbody tr th {\n",
       "        vertical-align: top;\n",
       "    }\n",
       "\n",
       "    .dataframe thead th {\n",
       "        text-align: right;\n",
       "    }\n",
       "</style>\n",
       "<table border=\"1\" class=\"dataframe\">\n",
       "  <thead>\n",
       "    <tr style=\"text-align: right;\">\n",
       "      <th></th>\n",
       "      <th>이름</th>\n",
       "      <th>가격</th>\n",
       "      <th>url</th>\n",
       "    </tr>\n",
       "  </thead>\n",
       "  <tbody>\n",
       "    <tr>\n",
       "      <th>767</th>\n",
       "      <td>MLB 어센틱 워싱턴 내셔널스 얼트4</td>\n",
       "      <td>SOLD OUT</td>\n",
       "      <td>/shop/shopdetail.html?branduid=5057&amp;xcode=031&amp;...</td>\n",
       "    </tr>\n",
       "    <tr>\n",
       "      <th>768</th>\n",
       "      <td>MLB 리그 베이직 뉴욕 양키스 커프..</td>\n",
       "      <td>SOLD OUT</td>\n",
       "      <td>/shop/shopdetail.html?branduid=3361677&amp;xcode=0...</td>\n",
       "    </tr>\n",
       "    <tr>\n",
       "      <th>769</th>\n",
       "      <td>NBA 컴파운드 가스마스크 멤피스 그..</td>\n",
       "      <td>SOLD OUT</td>\n",
       "      <td>/shop/shopdetail.html?branduid=3361506&amp;xcode=0...</td>\n",
       "    </tr>\n",
       "    <tr>\n",
       "      <th>770</th>\n",
       "      <td>[골프] 스트레치 코튼 워셔블 밀리터..</td>\n",
       "      <td>SOLD OUT</td>\n",
       "      <td>/shop/shopdetail.html?branduid=3360332&amp;xcode=0...</td>\n",
       "    </tr>\n",
       "    <tr>\n",
       "      <th>771</th>\n",
       "      <td>NBA 베이직 덴버 너기츠 스냅백 스카..</td>\n",
       "      <td>SOLD OUT</td>\n",
       "      <td>/shop/shopdetail.html?branduid=3351701&amp;xcode=0...</td>\n",
       "    </tr>\n",
       "  </tbody>\n",
       "</table>\n",
       "</div>"
      ],
      "text/plain": [
       "                          이름        가격  \\\n",
       "767     MLB 어센틱 워싱턴 내셔널스 얼트4  SOLD OUT   \n",
       "768   MLB 리그 베이직 뉴욕 양키스 커프..  SOLD OUT   \n",
       "769   NBA 컴파운드 가스마스크 멤피스 그..  SOLD OUT   \n",
       "770   [골프] 스트레치 코튼 워셔블 밀리터..  SOLD OUT   \n",
       "771  NBA 베이직 덴버 너기츠 스냅백 스카..  SOLD OUT   \n",
       "\n",
       "                                                   url  \n",
       "767  /shop/shopdetail.html?branduid=5057&xcode=031&...  \n",
       "768  /shop/shopdetail.html?branduid=3361677&xcode=0...  \n",
       "769  /shop/shopdetail.html?branduid=3361506&xcode=0...  \n",
       "770  /shop/shopdetail.html?branduid=3360332&xcode=0...  \n",
       "771  /shop/shopdetail.html?branduid=3351701&xcode=0...  "
      ]
     },
     "execution_count": 32,
     "metadata": {},
     "output_type": "execute_result"
    }
   ],
   "source": [
    "df = pd.DataFrame({\"이름\": name_list, \"가격\": price_list, \"url\": url_list})\n",
    "df.tail()"
   ]
  },
  {
   "cell_type": "code",
   "execution_count": 33,
   "metadata": {},
   "outputs": [
    {
     "name": "stdout",
     "output_type": "stream",
     "text": [
      "<class 'pandas.core.frame.DataFrame'>\n",
      "RangeIndex: 772 entries, 0 to 771\n",
      "Data columns (total 3 columns):\n",
      " #   Column  Non-Null Count  Dtype \n",
      "---  ------  --------------  ----- \n",
      " 0   이름      772 non-null    object\n",
      " 1   가격      772 non-null    object\n",
      " 2   url     772 non-null    object\n",
      "dtypes: object(3)\n",
      "memory usage: 18.2+ KB\n"
     ]
    }
   ],
   "source": [
    "df.info()"
   ]
  },
  {
   "cell_type": "code",
   "execution_count": 94,
   "metadata": {},
   "outputs": [
    {
     "name": "stdout",
     "output_type": "stream",
     "text": [
      "['https://api.odcloud.kr/api/3075686/v1/uddi:7e23faaf-1183-4867-b97a-89d32e7d4817?page=1&perPage=10&returnType=JSON&serviceKey=z2JT2G16MlICzkzX4ea%2BSpAEpLoqeZueOwf5IMEeic34cuYph8Im1ZzS9Ckoj7gvpBJSSmnt8qKytM%2FXcGhw6g%3D%3D', 'https://api.odcloud.kr/api/3075686/v1/uddi:7e23faaf-1183-4867-b97a-89d32e7d4817?page=2&perPage=10&returnType=JSON&serviceKey=z2JT2G16MlICzkzX4ea%2BSpAEpLoqeZueOwf5IMEeic34cuYph8Im1ZzS9Ckoj7gvpBJSSmnt8qKytM%2FXcGhw6g%3D%3D']\n"
     ]
    }
   ],
   "source": [
    "# https://api.odcloud.kr/api/3075686/v1/uddi:7e23faaf-1183-4867-b97a-89d32e7d4817?page=1&perPage=10&returnType=JSON&serviceKey=z2JT2G16MlICzkzX4ea%2BSpAEpLoqeZueOwf5IMEeic34cuYph8Im1ZzS9Ckoj7gvpBJSSmnt8qKytM%2FXcGhw6g%3D%3D\n",
    "# https://api.odcloud.kr/api/3075686/v1/uddi:7e23faaf-1183-4867-b97a-89d32e7d4817?page=1&perPage=10&returnType=JSON&serviceKey=z2JT2G16MlICzkzX4ea%2BSpAEpLoqeZueOwf5IMEeic34cuYph8Im1ZzS9Ckoj7gvpBJSSmnt8qKytM%2FXcGhw6g%3D%3D', \n",
    "# https://api.odcloud.kr/api/3075686/v1/uddi:7e23faaf-1183-4867-b97a-89d32e7d4817?page=2&perPage=10&returnType=JSON&serviceKey=z2JT2G16MlICzkzX4ea%2BSpAEpLoqeZueOwf5IMEeic34cuYph8Im1ZzS9Ckoj7gvpBJSSmnt8qKytM%2FXcGhw6g%3D%3D'\n",
    "\n",
    "base_url = (\n",
    "    r\"https://api.odcloud.kr/api/3075686/v1/uddi:7e23faaf-1183-4867-b97a-89d32e7d4817?\"\n",
    ")\n",
    "page = \"1\"\n",
    "perPage = \"10\"\n",
    "returnType = \"JSON\"\n",
    "serviceKey = r\"z2JT2G16MlICzkzX4ea%2BSpAEpLoqeZueOwf5IMEeic34cuYph8Im1ZzS9Ckoj7gvpBJSSmnt8qKytM%2FXcGhw6g%3D%3D\"\n",
    "\n",
    "targets = []\n",
    "\n",
    "for i in range(0, 2):\n",
    "    targets.append(\n",
    "        f\"{base_url}page={i+1}&perPage={perPage}&returnType={returnType}&serviceKey={serviceKey}\"\n",
    "    )\n",
    "\n",
    "print(targets)"
   ]
  },
  {
   "cell_type": "code",
   "execution_count": 107,
   "metadata": {},
   "outputs": [
    {
     "name": "stdout",
     "output_type": "stream",
     "text": [
      "<Response [200]>\n",
      "10\n",
      "10\n",
      "[33073]\n"
     ]
    }
   ],
   "source": [
    "import json\n",
    "\n",
    "res = requests.get(targets[0])\n",
    "\n",
    "print(res)\n",
    "json_res1 = res.json()\n",
    "print(json_res1[\"currentCount\"])\n",
    "\n",
    "json_res2 = json.loads(res.text)\n",
    "print(json_res2[\"currentCount\"])\n",
    "\n",
    "구분 = []\n",
    "승용차관용 = []\n",
    "승용차영업용 = []\n",
    "승용차자가용 = []\n",
    "승합차관용 = []\n",
    "승합차영업용 = []\n",
    "승합차자가용 = []\n",
    "특수차관용 = []\n",
    "특수차영업용 = []\n",
    "특수차자가용 = []\n",
    "화물차관용 = []\n",
    "화물차영업용 = []\n",
    "화물차자가용 = []\n",
    "\n",
    "for i in range(0, 1):\n",
    "    구분.append(json_res2[\"data\"][i][\"구 분\"])\n",
    "    승용차관용.append(json_res2[\"data\"][i][\"승용차(관용)\"])\n",
    "    승용차영업용.append(json_res2[\"data\"][i][\"승용차(영업용)\"])\n",
    "    승용차자가용.append(json_res2[\"data\"][i][\"승용차(자가용)\"])\n",
    "    승합차관용.append(json_res2[\"data\"][i][\"승합차(관용)\"])\n",
    "    승합차영업용.append(json_res2[\"data\"][i][\"승합차(영업용)\"])\n",
    "    승합차자가용.append(json_res2[\"data\"][i][\"승합차(자가용)\"])\n",
    "    특수차관용.append(json_res2[\"data\"][i][\"특수차(관용)\"])\n",
    "    특수차영업용.append(json_res2[\"data\"][i][\"특수차(영업용)\"])\n",
    "    특수차자가용.append(json_res2[\"data\"][i][\"특수차(자가용)\"])\n",
    "    화물차관용.append(json_res2[\"data\"][i][\"화물차(관용)\"])\n",
    "    화물차영업용.append(json_res2[\"data\"][i][\"화물차(영업용)\"])\n",
    "    화물차자가용.append(json_res2[\"data\"][i][\"화물차(자가용)\"])\n",
    "\n",
    "# print(화물차자가용)\n",
    "\n",
    "df = pd.DataFrame(\n",
    "    data=zip(\n",
    "        구분,\n",
    "        승용차관용,\n",
    "        승용차영업용,\n",
    "        승용차자가용,\n",
    "        승합차관용,\n",
    "        승합차영업용,\n",
    "        승합차자가용,\n",
    "        특수차관용,\n",
    "        특수차영업용,\n",
    "        특수차자가용,\n",
    "        화물차관용,\n",
    "        화물차영업용,\n",
    "        화물차자가용,\n",
    "    ),\n",
    "    columns=[\n",
    "        \"구분\",\n",
    "        \"승용차관용\",\n",
    "        \"승용차영업용\",\n",
    "        \"승용차자가용\",\n",
    "        \"승합차관용\",\n",
    "        \"승합차영업용\",\n",
    "        \"승합차자가용\",\n",
    "        \"특수차관용\",\n",
    "        \"특수차영업용\",\n",
    "        \"특수차자가용\",\n",
    "        \"화물차관용\",\n",
    "        \"화물차영업용\",\n",
    "        \"화물차자가용\",\n",
    "    ],\n",
    ")\n",
    "\n",
    "df.to_excel(r\"C:\\Users\\USER\\Desktop\\workspace01\\crawling\\data\\API로받은데이터.xlsx\")"
   ]
  },
  {
   "cell_type": "code",
   "execution_count": 108,
   "metadata": {},
   "outputs": [
    {
     "name": "stdout",
     "output_type": "stream",
     "text": [
      "Collecting selenium\n",
      "  Downloading selenium-4.21.0-py3-none-any.whl.metadata (6.9 kB)\n",
      "Requirement already satisfied: urllib3<3,>=1.26 in c:\\users\\user\\anaconda3\\lib\\site-packages (from urllib3[socks]<3,>=1.26->selenium) (2.0.7)\n",
      "Collecting trio~=0.17 (from selenium)\n",
      "  Downloading trio-0.25.1-py3-none-any.whl.metadata (8.7 kB)\n",
      "Collecting trio-websocket~=0.9 (from selenium)\n",
      "  Downloading trio_websocket-0.11.1-py3-none-any.whl.metadata (4.7 kB)\n",
      "Requirement already satisfied: certifi>=2021.10.8 in c:\\users\\user\\anaconda3\\lib\\site-packages (from selenium) (2024.2.2)\n",
      "Requirement already satisfied: typing_extensions>=4.9.0 in c:\\users\\user\\anaconda3\\lib\\site-packages (from selenium) (4.9.0)\n",
      "Collecting attrs>=23.2.0 (from trio~=0.17->selenium)\n",
      "  Using cached attrs-23.2.0-py3-none-any.whl.metadata (9.5 kB)\n",
      "Requirement already satisfied: sortedcontainers in c:\\users\\user\\anaconda3\\lib\\site-packages (from trio~=0.17->selenium) (2.4.0)\n",
      "Requirement already satisfied: idna in c:\\users\\user\\anaconda3\\lib\\site-packages (from trio~=0.17->selenium) (3.4)\n",
      "Collecting outcome (from trio~=0.17->selenium)\n",
      "  Downloading outcome-1.3.0.post0-py2.py3-none-any.whl.metadata (2.6 kB)\n",
      "Requirement already satisfied: sniffio>=1.3.0 in c:\\users\\user\\anaconda3\\lib\\site-packages (from trio~=0.17->selenium) (1.3.0)\n",
      "Requirement already satisfied: cffi>=1.14 in c:\\users\\user\\anaconda3\\lib\\site-packages (from trio~=0.17->selenium) (1.16.0)\n",
      "Collecting wsproto>=0.14 (from trio-websocket~=0.9->selenium)\n",
      "  Downloading wsproto-1.2.0-py3-none-any.whl.metadata (5.6 kB)\n",
      "Requirement already satisfied: pysocks!=1.5.7,<2.0,>=1.5.6 in c:\\users\\user\\anaconda3\\lib\\site-packages (from urllib3[socks]<3,>=1.26->selenium) (1.7.1)\n",
      "Requirement already satisfied: pycparser in c:\\users\\user\\anaconda3\\lib\\site-packages (from cffi>=1.14->trio~=0.17->selenium) (2.21)\n",
      "Collecting h11<1,>=0.9.0 (from wsproto>=0.14->trio-websocket~=0.9->selenium)\n",
      "  Downloading h11-0.14.0-py3-none-any.whl.metadata (8.2 kB)\n",
      "Downloading selenium-4.21.0-py3-none-any.whl (9.5 MB)\n",
      "   ---------------------------------------- 0.0/9.5 MB ? eta -:--:--\n",
      "   ---------------------------------------- 0.1/9.5 MB 3.3 MB/s eta 0:00:03\n",
      "   ------------------ --------------------- 4.5/9.5 MB 57.0 MB/s eta 0:00:01\n",
      "   ---------------------------------------  9.5/9.5 MB 75.5 MB/s eta 0:00:01\n",
      "   ---------------------------------------- 9.5/9.5 MB 67.0 MB/s eta 0:00:00\n",
      "Downloading trio-0.25.1-py3-none-any.whl (467 kB)\n",
      "   ---------------------------------------- 0.0/467.7 kB ? eta -:--:--\n",
      "   ---------------------------------------- 467.7/467.7 kB ? eta 0:00:00\n",
      "Downloading trio_websocket-0.11.1-py3-none-any.whl (17 kB)\n",
      "Using cached attrs-23.2.0-py3-none-any.whl (60 kB)\n",
      "Downloading wsproto-1.2.0-py3-none-any.whl (24 kB)\n",
      "Downloading outcome-1.3.0.post0-py2.py3-none-any.whl (10 kB)\n",
      "Downloading h11-0.14.0-py3-none-any.whl (58 kB)\n",
      "   ---------------------------------------- 0.0/58.3 kB ? eta -:--:--\n",
      "   ---------------------------------------- 58.3/58.3 kB ? eta 0:00:00\n",
      "Installing collected packages: h11, attrs, wsproto, outcome, trio, trio-websocket, selenium\n",
      "  Attempting uninstall: attrs\n",
      "    Found existing installation: attrs 23.1.0\n",
      "    Uninstalling attrs-23.1.0:\n",
      "      Successfully uninstalled attrs-23.1.0\n",
      "Successfully installed attrs-23.2.0 h11-0.14.0 outcome-1.3.0.post0 selenium-4.21.0 trio-0.25.1 trio-websocket-0.11.1 wsproto-1.2.0\n"
     ]
    }
   ],
   "source": [
    "!pip install selenium"
   ]
  },
  {
   "cell_type": "code",
   "execution_count": null,
   "metadata": {},
   "outputs": [],
   "source": []
  }
 ],
 "metadata": {
  "kernelspec": {
   "display_name": "Python 3",
   "language": "python",
   "name": "python3"
  },
  "language_info": {
   "codemirror_mode": {
    "name": "ipython",
    "version": 3
   },
   "file_extension": ".py",
   "mimetype": "text/x-python",
   "name": "python",
   "nbconvert_exporter": "python",
   "pygments_lexer": "ipython3",
   "version": "3.11.7"
  },
  "toc": {
   "base_numbering": 1,
   "nav_menu": {},
   "number_sections": false,
   "sideBar": true,
   "skip_h1_title": false,
   "title_cell": "Table of Contents",
   "title_sidebar": "Contents",
   "toc_cell": false,
   "toc_position": {},
   "toc_section_display": true,
   "toc_window_display": true
  }
 },
 "nbformat": 4,
 "nbformat_minor": 4
}
